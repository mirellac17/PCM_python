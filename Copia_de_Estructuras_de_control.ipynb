{
  "nbformat": 4,
  "nbformat_minor": 0,
  "metadata": {
    "colab": {
      "provenance": [],
      "include_colab_link": true
    },
    "kernelspec": {
      "name": "python3",
      "display_name": "Python 3"
    },
    "language_info": {
      "name": "python"
    }
  },
  "cells": [
    {
      "cell_type": "markdown",
      "metadata": {
        "id": "view-in-github",
        "colab_type": "text"
      },
      "source": [
        "<a href=\"https://colab.research.google.com/github/mirellac17/PCM_python/blob/main/Copia_de_Estructuras_de_control.ipynb\" target=\"_parent\"><img src=\"https://colab.research.google.com/assets/colab-badge.svg\" alt=\"Open In Colab\"/></a>"
      ]
    },
    {
      "cell_type": "markdown",
      "source": [
        "# Estructuras de control\n",
        "\n",
        "Hasta el momento, Python se muestra como una \"calculadora\" muy poderosa, capaz de ejecutar operaciones con números, cadenas de texto, etc. Sin embargo, los lenguajes de programación ofrecen mayores funcionalidades para controlar el flujo de la ejecución del programa. Se presentan dos estructuras de control: **condicionales** y **bucles**. Tenga en cuenta que las estructuras de control no son propias de Python, que están presentes en todo lenguaje de programación y si usted tiene experiencia con otros lenguajes se adaptará inmediatamente, caso contrario, verá la facilidad de leer el código en Python."
      ],
      "metadata": {
        "id": "cK3LLERINwlR"
      }
    },
    {
      "cell_type": "markdown",
      "source": [
        "# Condicional\n",
        "El condicional evalua una condición lógica. Luego de verificar si es verdadera ejecuta una acción, caso contrario, ejecuta otra acción (o ninguna). La sintaxis en Python es:\n",
        "\n",
        "```\n",
        "if (condicion):\n",
        "  # Ejecutar acción en caso la condición sea verdadera\n",
        "else:\n",
        "  # Ejecutar acción en caso la condición sea falsa.\n",
        "```\n",
        "\n",
        "Vemos algunos ejemplos:"
      ],
      "metadata": {
        "id": "c4Ez0sIqNzVu"
      }
    },
    {
      "cell_type": "code",
      "source": [
        "#Verificar si un usuario es mayor de edad\n",
        "edad = 17 #Declarar variable edad\n",
        "\n",
        "#Iniciamos el condicional\n",
        "if edad > 18  :#Se verifica si edad es mayor de 18\n",
        "  #Si es verdadero, se ejecuta la siguiente instrucción\n",
        "  print('ES MAYOR DE EDAD')\n",
        "else: #Si la condición es false, se ejecuta la siguiente instrucción\n",
        "  print('ES MENOR DE EDAD')\n"
      ],
      "metadata": {
        "colab": {
          "base_uri": "https://localhost:8080/"
        },
        "id": "LtrzMuANSc7G",
        "outputId": "293371c6-618a-4919-e768-c3d1a35f0aa6"
      },
      "execution_count": null,
      "outputs": [
        {
          "output_type": "stream",
          "name": "stdout",
          "text": [
            "ES MENOR DE EDAD\n"
          ]
        }
      ]
    },
    {
      "cell_type": "markdown",
      "source": [
        "El ejemplo anterior pone en evidencia un aspecto muy importante de Python, las líneas deben estar indentadas. Esta característica permite ordenar el código y hacerlo mas legible, pero requiere que el programador esté atento a este aspecto. Afortunadamente, los editores de texto modernos identifican el error y ayudan al programador a solucionar el problema inmediatamente.   \n"
      ],
      "metadata": {
        "id": "sguq4BIHVsB6"
      }
    },
    {
      "cell_type": "markdown",
      "source": [
        "Es posible tener mas de un condición a verificar. La estructura corresponde a:\n",
        "\n",
        "\n",
        "\n",
        "```\n",
        "if (condicion 1):\n",
        "  # acción si la condición 1 es verdadera\n",
        "elif (condicion 2):\n",
        "  # acción si la condición 2 es verdadera\n",
        "elif (condicion 3):\n",
        "  # acción si la condición 3 es verdadera\n",
        "else:\n",
        "  # acción si ninguna condición se cumple\n",
        "```\n",
        "Veamos un ejemplo:\n",
        "\n"
      ],
      "metadata": {
        "id": "An80Zd6eUrw7"
      }
    },
    {
      "cell_type": "code",
      "source": [
        "#Verificar si una persona es un adulto mayor, adulto, joven, adolescente o niño\n",
        "#En caso se ingrese una edad no válida que se muestre un mensaje de alerta\n",
        "\n",
        "edad = 40\n",
        "\n",
        "if edad >= 60 :\n",
        "  print('Adulto mayor')\n",
        "elif edad < 60 and edad >= 30:\n",
        "  print('Adulto')\n",
        "elif edad < 30 and edad >= 20:\n",
        "  print('Joven')\n",
        "elif edad < 20 and edad >= 12:\n",
        "  print('Adolescente')\n",
        "elif edad < 12:\n",
        "  print('Niño')\n",
        "else:\n",
        "  print('Edad no valida. Ingrese nuevamente')"
      ],
      "metadata": {
        "id": "jFXt2mDNY2nD",
        "colab": {
          "base_uri": "https://localhost:8080/"
        },
        "outputId": "f98070a7-2e04-401a-804d-395514a0ae1a"
      },
      "execution_count": null,
      "outputs": [
        {
          "output_type": "stream",
          "name": "stdout",
          "text": [
            "Adulto\n"
          ]
        }
      ]
    },
    {
      "cell_type": "markdown",
      "source": [
        "De ejemplo anterior ¿qué sucede si coloca 60? Explique, busque la solución y explore otros posibles problemas."
      ],
      "metadata": {
        "id": "zm8z_d76c1ZQ"
      }
    },
    {
      "cell_type": "markdown",
      "source": [
        "Es posible tener un condicional dentro de otro condicional, a esto se le denomina **condicional anidado** . Veamos un ejemplo:"
      ],
      "metadata": {
        "id": "RgTHDtWLc-GY"
      }
    },
    {
      "cell_type": "code",
      "source": [
        "#Primero se verifica si la edad es menor que cero para indicar si la edad es valida\n",
        "# o invalida. Luego se establece si es mayor o menor de edad\n",
        "edad = 19\n",
        "\n",
        "if edad < 0:\n",
        "  print('EDAD NO VALIDA. USTED NO PUEDE TENER UNA EDAD NEGATIVA')\n",
        "else:\n",
        "  print('EDAD VALIDA. DATOS CORRECTOS')\n",
        "  if edad >= 18:\n",
        "    print('mayor de edad')\n",
        "  else:\n",
        "    print('menor de edad')\n",
        "\n"
      ],
      "metadata": {
        "colab": {
          "base_uri": "https://localhost:8080/"
        },
        "id": "U6DXYgHLdIyj",
        "outputId": "81078d17-cb41-400c-b50a-65ac2082a45e"
      },
      "execution_count": null,
      "outputs": [
        {
          "output_type": "stream",
          "name": "stdout",
          "text": [
            "EDAD VALIDA. DATOS CORRECTOS\n",
            "mayor de edad\n"
          ]
        }
      ]
    },
    {
      "cell_type": "markdown",
      "source": [
        "Incluya en el código anterior una sección que muestre una alerta en caso la edad sea irracionalmente alta"
      ],
      "metadata": {
        "id": "O0agwPILwcXn"
      }
    },
    {
      "cell_type": "code",
      "source": [
        "#Ejemplo: verifique que una lista tenga 5 elementos, de ser el caso que imprima un mensaje\n",
        "# confirmando esto, caso contrario que imprima un mensaje de alerta\n",
        "l = ['Python','R','Java','C']\n",
        "\n",
        "if len(l) == 5:\n",
        "  print('TODO OK')\n",
        "else:\n",
        "  print('hay un error')"
      ],
      "metadata": {
        "id": "xyRj6w03hmdb",
        "colab": {
          "base_uri": "https://localhost:8080/"
        },
        "outputId": "ddcc9414-f475-49ba-9c21-fb992a3f3e68"
      },
      "execution_count": null,
      "outputs": [
        {
          "output_type": "stream",
          "name": "stdout",
          "text": [
            "hay un error\n"
          ]
        }
      ]
    },
    {
      "cell_type": "markdown",
      "source": [
        "#Bucles\n",
        "Hay ocasiones en que se requiere realizar repetitivamente una tarea. Para este tipo de situaciones se utilizan los **bucles**. Usaremos dos tipos de bucles: los bucles **for** y los bucles **while**."
      ],
      "metadata": {
        "id": "jWreCzMuN6RE"
      }
    },
    {
      "cell_type": "markdown",
      "source": [
        "## Bucle for\n",
        "En un bucle for se ejecuta una tarea un numero definido de veces. La estructura es la siguiente:\n",
        "\n",
        "```\n",
        "for CONTADOR in RANGO :\n",
        "  ACCIONES A EJECUTAR\n",
        "```\n",
        "\n",
        "Un *contador* es una variable (que no es necesario declarar previamente) que lleva al cuenta del número de veces que se ejecuta la tarea en el intervalo que el *rango* lo exija. Por ejemplo, si uno desea ejecutar una acción 5 veces el contador se encarga de llevar esta cuenta. El rango debe ser definido explicitamente, esto quiere decir que se conoce de antemando cuantas veces se ejecutará el código. Por ejemplo, el siguiente código imprime N veces una palabra.\n"
      ],
      "metadata": {
        "id": "U53GnOKXN9_i"
      }
    },
    {
      "cell_type": "code",
      "source": [
        "#EJEMPLO DE BUCLE FOR\n",
        "for i in range(10):\n",
        "  #Se imprime i en cada iteracion\n",
        "  print(i,'HOLA')"
      ],
      "metadata": {
        "colab": {
          "base_uri": "https://localhost:8080/"
        },
        "id": "msvHtpLzjRO5",
        "outputId": "111c12e3-0234-43ae-aa43-f91d5d82a1c2"
      },
      "execution_count": null,
      "outputs": [
        {
          "output_type": "stream",
          "name": "stdout",
          "text": [
            "0 HOLA\n",
            "1 HOLA\n",
            "2 HOLA\n",
            "3 HOLA\n",
            "4 HOLA\n",
            "5 HOLA\n",
            "6 HOLA\n",
            "7 HOLA\n",
            "8 HOLA\n",
            "9 HOLA\n"
          ]
        }
      ]
    },
    {
      "cell_type": "markdown",
      "source": [
        "Se puede usar cualquier nombre para indicar al contador, frecuentemente se usa **i**, **j**, o **k**. Fíjese que el contador **i** no fue declarado antes de que inicie el bucle, no es necesario hacerlo. La actualización del contador de aumentar de 1 en 1 se hace automaticamente en el rango establecido. También es posible variar el rango:"
      ],
      "metadata": {
        "id": "jiFm_WhG0UHP"
      }
    },
    {
      "cell_type": "code",
      "source": [
        "for i in range(2,15):\n",
        "  print(i)"
      ],
      "metadata": {
        "colab": {
          "base_uri": "https://localhost:8080/"
        },
        "id": "nK-BiYqR0zxZ",
        "outputId": "b31801f1-0522-4248-c9c8-571d0a53d6b7"
      },
      "execution_count": null,
      "outputs": [
        {
          "output_type": "stream",
          "name": "stdout",
          "text": [
            "2\n",
            "3\n",
            "4\n",
            "5\n",
            "6\n",
            "7\n",
            "8\n",
            "9\n",
            "10\n",
            "11\n",
            "12\n",
            "13\n",
            "14\n"
          ]
        }
      ]
    },
    {
      "cell_type": "code",
      "source": [
        "for i in range(2,15,3):\n",
        "  print(i)"
      ],
      "metadata": {
        "colab": {
          "base_uri": "https://localhost:8080/"
        },
        "id": "djlTQ4Mx1FRs",
        "outputId": "dd60a428-6ad2-42d8-83d8-90e30531db57"
      },
      "execution_count": null,
      "outputs": [
        {
          "output_type": "stream",
          "name": "stdout",
          "text": [
            "2\n",
            "5\n",
            "8\n",
            "11\n",
            "14\n"
          ]
        }
      ]
    },
    {
      "cell_type": "code",
      "source": [
        "for i in range(15,2,-2):\n",
        "  print(i)"
      ],
      "metadata": {
        "colab": {
          "base_uri": "https://localhost:8080/"
        },
        "id": "Ej730mBU1KZd",
        "outputId": "0a221857-7dbb-47f1-e623-1eec3da0d952"
      },
      "execution_count": null,
      "outputs": [
        {
          "output_type": "stream",
          "name": "stdout",
          "text": [
            "15\n",
            "13\n",
            "11\n",
            "9\n",
            "7\n",
            "5\n",
            "3\n"
          ]
        }
      ]
    },
    {
      "cell_type": "markdown",
      "source": [
        "Veamos algunas aplicaciones, como puede ser mostar cada uno de los elementos en una lista."
      ],
      "metadata": {
        "id": "ZbQ1c3D61SUK"
      }
    },
    {
      "cell_type": "code",
      "source": [
        "lista = ['Ruben',30,'Python',False,1000]\n",
        "for i in range(len(lista)):\n",
        "  print(lista[i])"
      ],
      "metadata": {
        "id": "DcD4DEdbjYNQ",
        "colab": {
          "base_uri": "https://localhost:8080/"
        },
        "outputId": "253a1f9e-72a4-4231-9327-b048475dfef7"
      },
      "execution_count": null,
      "outputs": [
        {
          "output_type": "stream",
          "name": "stdout",
          "text": [
            "Ruben\n",
            "30\n",
            "Python\n",
            "False\n",
            "1000\n"
          ]
        }
      ]
    },
    {
      "cell_type": "code",
      "source": [
        "#forma alternativa\n",
        "for xyz in lista:\n",
        "  print(xyz)"
      ],
      "metadata": {
        "id": "7D1WSbBhjwIN",
        "colab": {
          "base_uri": "https://localhost:8080/"
        },
        "outputId": "ac84a30d-7b6e-480d-c938-24bff2d9e8e1"
      },
      "execution_count": null,
      "outputs": [
        {
          "output_type": "stream",
          "name": "stdout",
          "text": [
            "Ruben\n",
            "30\n",
            "Python\n",
            "False\n",
            "1000\n"
          ]
        }
      ]
    },
    {
      "cell_type": "code",
      "source": [
        "#tabla de multiplicar del N\n",
        "numero = 8\n",
        "for i in range(11):\n",
        "  print(numero,' x ',i,'=',numero*i)"
      ],
      "metadata": {
        "id": "mR-dMdJhj18P",
        "colab": {
          "base_uri": "https://localhost:8080/"
        },
        "outputId": "6aab74b7-e7ae-4683-c41a-05a0b0910286"
      },
      "execution_count": null,
      "outputs": [
        {
          "output_type": "stream",
          "name": "stdout",
          "text": [
            "8  x  0 = 0\n",
            "8  x  1 = 8\n",
            "8  x  2 = 16\n",
            "8  x  3 = 24\n",
            "8  x  4 = 32\n",
            "8  x  5 = 40\n",
            "8  x  6 = 48\n",
            "8  x  7 = 56\n",
            "8  x  8 = 64\n",
            "8  x  9 = 72\n",
            "8  x  10 = 80\n"
          ]
        }
      ]
    },
    {
      "cell_type": "markdown",
      "source": [
        "Si se le pide ejecutar un código que realice la tabla de multiplicar de 1\n",
        " al 10 usted debería ejecutar el código anterior varias veces. Es decir realizar un bucle dentro de otro bucle, a esto se le llama **bucle anidado**."
      ],
      "metadata": {
        "id": "cysyK_LNkLj9"
      }
    },
    {
      "cell_type": "code",
      "source": [
        "for numero in range(1,11):\n",
        "  print('Tabla del ',numero)\n",
        "  for i in range(11):\n",
        "    print(numero,' x ',i,'=',numero*i)"
      ],
      "metadata": {
        "id": "fCYHsGcDkQ1b",
        "colab": {
          "base_uri": "https://localhost:8080/"
        },
        "outputId": "58dc7044-4de7-4ead-d7a8-4e23fb57b00e"
      },
      "execution_count": null,
      "outputs": [
        {
          "output_type": "stream",
          "name": "stdout",
          "text": [
            "Tabla del  1\n",
            "1  x  0 = 0\n",
            "1  x  1 = 1\n",
            "1  x  2 = 2\n",
            "1  x  3 = 3\n",
            "1  x  4 = 4\n",
            "1  x  5 = 5\n",
            "1  x  6 = 6\n",
            "1  x  7 = 7\n",
            "1  x  8 = 8\n",
            "1  x  9 = 9\n",
            "1  x  10 = 10\n",
            "Tabla del  2\n",
            "2  x  0 = 0\n",
            "2  x  1 = 2\n",
            "2  x  2 = 4\n",
            "2  x  3 = 6\n",
            "2  x  4 = 8\n",
            "2  x  5 = 10\n",
            "2  x  6 = 12\n",
            "2  x  7 = 14\n",
            "2  x  8 = 16\n",
            "2  x  9 = 18\n",
            "2  x  10 = 20\n",
            "Tabla del  3\n",
            "3  x  0 = 0\n",
            "3  x  1 = 3\n",
            "3  x  2 = 6\n",
            "3  x  3 = 9\n",
            "3  x  4 = 12\n",
            "3  x  5 = 15\n",
            "3  x  6 = 18\n",
            "3  x  7 = 21\n",
            "3  x  8 = 24\n",
            "3  x  9 = 27\n",
            "3  x  10 = 30\n",
            "Tabla del  4\n",
            "4  x  0 = 0\n",
            "4  x  1 = 4\n",
            "4  x  2 = 8\n",
            "4  x  3 = 12\n",
            "4  x  4 = 16\n",
            "4  x  5 = 20\n",
            "4  x  6 = 24\n",
            "4  x  7 = 28\n",
            "4  x  8 = 32\n",
            "4  x  9 = 36\n",
            "4  x  10 = 40\n",
            "Tabla del  5\n",
            "5  x  0 = 0\n",
            "5  x  1 = 5\n",
            "5  x  2 = 10\n",
            "5  x  3 = 15\n",
            "5  x  4 = 20\n",
            "5  x  5 = 25\n",
            "5  x  6 = 30\n",
            "5  x  7 = 35\n",
            "5  x  8 = 40\n",
            "5  x  9 = 45\n",
            "5  x  10 = 50\n",
            "Tabla del  6\n",
            "6  x  0 = 0\n",
            "6  x  1 = 6\n",
            "6  x  2 = 12\n",
            "6  x  3 = 18\n",
            "6  x  4 = 24\n",
            "6  x  5 = 30\n",
            "6  x  6 = 36\n",
            "6  x  7 = 42\n",
            "6  x  8 = 48\n",
            "6  x  9 = 54\n",
            "6  x  10 = 60\n",
            "Tabla del  7\n",
            "7  x  0 = 0\n",
            "7  x  1 = 7\n",
            "7  x  2 = 14\n",
            "7  x  3 = 21\n",
            "7  x  4 = 28\n",
            "7  x  5 = 35\n",
            "7  x  6 = 42\n",
            "7  x  7 = 49\n",
            "7  x  8 = 56\n",
            "7  x  9 = 63\n",
            "7  x  10 = 70\n",
            "Tabla del  8\n",
            "8  x  0 = 0\n",
            "8  x  1 = 8\n",
            "8  x  2 = 16\n",
            "8  x  3 = 24\n",
            "8  x  4 = 32\n",
            "8  x  5 = 40\n",
            "8  x  6 = 48\n",
            "8  x  7 = 56\n",
            "8  x  8 = 64\n",
            "8  x  9 = 72\n",
            "8  x  10 = 80\n",
            "Tabla del  9\n",
            "9  x  0 = 0\n",
            "9  x  1 = 9\n",
            "9  x  2 = 18\n",
            "9  x  3 = 27\n",
            "9  x  4 = 36\n",
            "9  x  5 = 45\n",
            "9  x  6 = 54\n",
            "9  x  7 = 63\n",
            "9  x  8 = 72\n",
            "9  x  9 = 81\n",
            "9  x  10 = 90\n",
            "Tabla del  10\n",
            "10  x  0 = 0\n",
            "10  x  1 = 10\n",
            "10  x  2 = 20\n",
            "10  x  3 = 30\n",
            "10  x  4 = 40\n",
            "10  x  5 = 50\n",
            "10  x  6 = 60\n",
            "10  x  7 = 70\n",
            "10  x  8 = 80\n",
            "10  x  9 = 90\n",
            "10  x  10 = 100\n"
          ]
        }
      ]
    },
    {
      "cell_type": "markdown",
      "source": [
        "## Bucle while\n",
        "\n",
        "Este bucle verifica una condición lógica y ejecuta una acción mientras la condición sea verdadera. Si la condición no se cumple el bucle finaliza. A diferencia del bucle **for** que se indica claramente cuantas veces se ejecuta el bucle, en el bucle **while** no necesariamente se sabe cuantas veces se ejecutará el bucle."
      ],
      "metadata": {
        "id": "HoR7J9SLOE7a"
      }
    },
    {
      "cell_type": "code",
      "source": [
        "i=3 #valor inicial del contador i=3\n",
        "while i < 10: #i=10 -> NO\n",
        "  print('ESTOY EN EL BUCLE',i) #ejecuta\n",
        "  i = i + 1 #actualiza el valor i =9 + 1 = 10\n"
      ],
      "metadata": {
        "id": "TNH1ZYggOLFY",
        "colab": {
          "base_uri": "https://localhost:8080/"
        },
        "outputId": "6fa9ecef-00f6-44af-c30e-aed2154dc21f"
      },
      "execution_count": null,
      "outputs": [
        {
          "output_type": "stream",
          "name": "stdout",
          "text": [
            "ESTOY EN EL BUCLE 3\n",
            "ESTOY EN EL BUCLE 4\n",
            "ESTOY EN EL BUCLE 5\n",
            "ESTOY EN EL BUCLE 6\n",
            "ESTOY EN EL BUCLE 7\n",
            "ESTOY EN EL BUCLE 8\n",
            "ESTOY EN EL BUCLE 9\n"
          ]
        }
      ]
    },
    {
      "cell_type": "code",
      "source": [],
      "metadata": {
        "id": "oZe9-pzCtxlW"
      },
      "execution_count": null,
      "outputs": []
    },
    {
      "cell_type": "code",
      "source": [],
      "metadata": {
        "colab": {
          "base_uri": "https://localhost:8080/"
        },
        "id": "5JNMGahpuErM",
        "outputId": "6347f8ec-b4bc-45ab-b20a-47a1035ee3b5"
      },
      "execution_count": null,
      "outputs": [
        {
          "output_type": "stream",
          "name": "stdout",
          "text": [
            "1\n",
            "3\n",
            "5\n",
            "7\n",
            "15\n",
            "21\n",
            "35\n"
          ]
        }
      ]
    },
    {
      "cell_type": "markdown",
      "source": [
        "# Ejemplo: Minimos cuadrados\n",
        "El método de mínimos cuadrados permite determinar la ecuación de la recta que mejor se ajusta a un conjunto de datos. Es importante recordar que la ecuación de una recta es $y=mx+b$ donde $y$ representa a la variable dependiente y $x$ representa a la variable independiente. Además $m$ es la pendiente de la recta y $b$ la intersección con el eje vertical.\n",
        "\n",
        "Dado un conjunto de datos $X$ y $Y$ que se relacionan linealmente, el método de mínimos cuadrados permite encontrar la ecuación de la recta que mejor se ajusta a los datos, de modo que minimiza el error cuadratico medio. La pendiente $m$  y el valor $b$ queda dado por:\n",
        "\n",
        "$m = \\frac{\\sum xy - \\frac{\\sum x \\sum y}{n}}{\\sum x^2 - \\frac{(\\sum x)^2}{n}}$\n",
        "\n",
        "$b = \\bar{y} - m \\bar{x}$\n",
        "\n",
        "Con lo hecho previamente podemos programar el método:"
      ],
      "metadata": {
        "id": "6HL311B4fxFS"
      }
    },
    {
      "cell_type": "code",
      "source": [],
      "metadata": {
        "id": "Les-06zSf6VO"
      },
      "execution_count": null,
      "outputs": []
    },
    {
      "cell_type": "markdown",
      "source": [
        "El coeficiente de correlación **R**  es un valor que indica que tan bueno es el ajuste lineal. Toma valores entre -1 y 1. Es positivo si la correlación es directamente proporcional, es negativo si la correlación es inversamente proporcional y se aproxima a 0 si los datos no se ajustan a una recta. Esta dado por la expresión:\n",
        "\n",
        "$R = \\frac{n \\sum xy - \\sum x \\sum y}{\\sqrt{n \\sum x^{2} -(\\sum x)^2}\\sqrt{n \\sum y^{2}-(\\sum y)^2}}$"
      ],
      "metadata": {
        "id": "uG_XNxFzsnZr"
      }
    },
    {
      "cell_type": "code",
      "source": [],
      "metadata": {
        "id": "HetGF3yMsClP"
      },
      "execution_count": null,
      "outputs": []
    },
    {
      "cell_type": "markdown",
      "source": [],
      "metadata": {
        "id": "MVvYg4IOvcSw"
      }
    }
  ]
}