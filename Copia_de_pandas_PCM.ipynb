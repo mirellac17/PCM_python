{
  "nbformat": 4,
  "nbformat_minor": 0,
  "metadata": {
    "colab": {
      "provenance": [],
      "include_colab_link": true
    },
    "kernelspec": {
      "name": "python3",
      "display_name": "Python 3"
    },
    "language_info": {
      "name": "python"
    }
  },
  "cells": [
    {
      "cell_type": "markdown",
      "metadata": {
        "id": "view-in-github",
        "colab_type": "text"
      },
      "source": [
        "<a href=\"https://colab.research.google.com/github/mirellac17/PCM_python/blob/main/Copia_de_pandas_PCM.ipynb\" target=\"_parent\"><img src=\"https://colab.research.google.com/assets/colab-badge.svg\" alt=\"Open In Colab\"/></a>"
      ]
    },
    {
      "cell_type": "markdown",
      "metadata": {
        "id": "6zz1FprOp9rC"
      },
      "source": [
        "#Libreria Pandas\n",
        "Pandas es una librería que permite cargar un conjunto de datos (csv, xlsx, etc.), explorar el conjunto de datos, realizar operaciones y analizar los datos."
      ]
    },
    {
      "cell_type": "markdown",
      "metadata": {
        "id": "0KkCYIra-RaE"
      },
      "source": [
        "Los elementos básicos en Pandas son las **series** y los **dataframes**"
      ]
    },
    {
      "cell_type": "code",
      "metadata": {
        "id": "9YUu5lBCp9Fd"
      },
      "source": [],
      "execution_count": null,
      "outputs": []
    },
    {
      "cell_type": "code",
      "metadata": {
        "id": "Rns2CLNcp6C0"
      },
      "source": [
        "#otro ejemplo (ahora podremos indexar cada elemento)\n"
      ],
      "execution_count": null,
      "outputs": []
    },
    {
      "cell_type": "code",
      "metadata": {
        "id": "nHMYcuc2tL9E"
      },
      "source": [
        "#Podemos colocar un nombre a nuestro dataframe\n"
      ],
      "execution_count": null,
      "outputs": []
    },
    {
      "cell_type": "code",
      "metadata": {
        "id": "Fxm_2ImBtnrs"
      },
      "source": [
        "#Colocando un indice a los indices\n"
      ],
      "execution_count": null,
      "outputs": []
    },
    {
      "cell_type": "code",
      "metadata": {
        "id": "mgXnedHxt26M"
      },
      "source": [],
      "execution_count": null,
      "outputs": []
    },
    {
      "cell_type": "markdown",
      "metadata": {
        "id": "k4k6C6Rit6Us"
      },
      "source": [
        "#Dataframe\n",
        "Es una estructura de datos bidimensional heterogénea(se admite amplia variedad de tipos de datos). Las columnas y filas están indizadas de modo que el acceso a la información sea efectivo. Es la estructura principal de Pandas.\n"
      ]
    },
    {
      "cell_type": "code",
      "metadata": {
        "id": "tQ4CNfKAt5sm"
      },
      "source": [
        "#Creando un dataframe a partir de un diccionario\n"
      ],
      "execution_count": null,
      "outputs": []
    },
    {
      "cell_type": "code",
      "metadata": {
        "id": "56pzishKwIYs"
      },
      "source": [
        "#Esto permite acceder a cada columna\n"
      ],
      "execution_count": null,
      "outputs": []
    },
    {
      "cell_type": "code",
      "metadata": {
        "id": "O3RcDJRfwOJ3"
      },
      "source": [
        "#Una columna puede convertirse en los índices del dataframe\n"
      ],
      "execution_count": null,
      "outputs": []
    },
    {
      "cell_type": "code",
      "metadata": {
        "id": "t2yaUrJ-xLWZ"
      },
      "source": [],
      "execution_count": null,
      "outputs": []
    },
    {
      "cell_type": "code",
      "metadata": {
        "id": "dvVKXN5jxUNh"
      },
      "source": [],
      "execution_count": null,
      "outputs": []
    },
    {
      "cell_type": "markdown",
      "metadata": {
        "id": "FqxCBnLtyTi7"
      },
      "source": [
        "#Acceder a elementos\n",
        "Se puede acceder a los elementos de un dataframe de modo similar al de una lista. Sin embargo, existen otros comandos y estos son **loc()** y **iloc()**."
      ]
    },
    {
      "cell_type": "code",
      "metadata": {
        "id": "FUCLVixyyWBu"
      },
      "source": [
        "#Accediendo de modo similar a una lista\n"
      ],
      "execution_count": null,
      "outputs": []
    },
    {
      "cell_type": "code",
      "metadata": {
        "id": "1pgC5zGB0JLS"
      },
      "source": [
        "#Podemos colocar el nombre de la columna y de fila\n"
      ],
      "execution_count": null,
      "outputs": []
    },
    {
      "cell_type": "markdown",
      "metadata": {
        "id": "rg4AUkFAB6A9"
      },
      "source": [
        "**loc()** permite acceder a los elementos por nombre de columna y fila, y también permite hacer consultas lógicas para filtrar datos."
      ]
    },
    {
      "cell_type": "code",
      "metadata": {
        "id": "7W-8dcCb0d8u"
      },
      "source": [],
      "execution_count": null,
      "outputs": []
    },
    {
      "cell_type": "code",
      "metadata": {
        "id": "K_HTqAsF0vpR"
      },
      "source": [
        "#Los dos puntos sirven para abarcar un rango\n"
      ],
      "execution_count": null,
      "outputs": []
    },
    {
      "cell_type": "code",
      "metadata": {
        "id": "CP2WlzlX4IhA"
      },
      "source": [
        "#filtrar data\n"
      ],
      "execution_count": null,
      "outputs": []
    },
    {
      "cell_type": "markdown",
      "metadata": {
        "id": "lEfaAZs-Cbzb"
      },
      "source": [
        "**iloc()** admite los índices numéricos para acceder a los datos, o fracciones de este."
      ]
    },
    {
      "cell_type": "code",
      "metadata": {
        "id": "Y5FbXhga1hI4"
      },
      "source": [],
      "execution_count": null,
      "outputs": []
    },
    {
      "cell_type": "markdown",
      "metadata": {
        "id": "ZzU4SQO35rYP"
      },
      "source": [
        "#Operaciones entre columnas\n",
        "\n",
        "Podemos realizar operaciones entre columnas, de modo que el resultado se agrege en una nueva columna."
      ]
    },
    {
      "cell_type": "code",
      "metadata": {
        "id": "ef5gtYLJ6IGT"
      },
      "source": [
        "#Creamos la columna Aumento que es el 10% de Sueldo\n"
      ],
      "execution_count": null,
      "outputs": []
    },
    {
      "cell_type": "markdown",
      "metadata": {
        "id": "rF8cIlWeEGNt"
      },
      "source": [
        "Explores un ejemplo diferente. Se creará un conjunto de con datos aleatorios sobre masa (en kg), talla(en metros m), edad, ingresos(en soles) de un conjunto de personas. Se realizará operaciones a las columnas, y entre columnas."
      ]
    },
    {
      "cell_type": "code",
      "metadata": {
        "id": "9sRm3Gh_EF3X"
      },
      "source": [],
      "execution_count": null,
      "outputs": []
    },
    {
      "cell_type": "markdown",
      "metadata": {
        "id": "VzlwZtYWMEpv"
      },
      "source": [
        "apply() nos permite definir una función y aplicarla a toda una columna. Aquí se define la funcion *adulto mayor* que retorna True si la edad es mayor de 60, y False en caso contrario."
      ]
    },
    {
      "cell_type": "code",
      "metadata": {
        "id": "zE0NQHrMJBDQ"
      },
      "source": [],
      "execution_count": null,
      "outputs": []
    },
    {
      "cell_type": "code",
      "metadata": {
        "id": "FNZ9sbcTJmit"
      },
      "source": [],
      "execution_count": null,
      "outputs": []
    },
    {
      "cell_type": "code",
      "metadata": {
        "id": "o8O4-9uYK2am"
      },
      "source": [],
      "execution_count": null,
      "outputs": []
    },
    {
      "cell_type": "markdown",
      "metadata": {
        "id": "BPIPhxO3Z5tn"
      },
      "source": [
        "El Indice de Masa Corporal (IMC) es la relación entre la masa y talla. Su valor determina si una persona tiene o no sobrepeso"
      ]
    },
    {
      "cell_type": "code",
      "metadata": {
        "id": "78HxhHfWK4pi"
      },
      "source": [],
      "execution_count": null,
      "outputs": []
    },
    {
      "cell_type": "markdown",
      "metadata": {
        "id": "coNn71JwaFb8"
      },
      "source": [
        "Si el IMC es mayor de 25, se considera que la persona tiene sobrepeso. Definamos una función para esto:"
      ]
    },
    {
      "cell_type": "code",
      "metadata": {
        "id": "sLPoYaY0MWEi"
      },
      "source": [],
      "execution_count": null,
      "outputs": []
    },
    {
      "cell_type": "code",
      "metadata": {
        "id": "g3oGKVyWMjOv"
      },
      "source": [],
      "execution_count": null,
      "outputs": []
    },
    {
      "cell_type": "markdown",
      "metadata": {
        "id": "BwvhHM1iNkHc"
      },
      "source": [
        "groupby() nos permite agrupar datos por columnas, ejemplo:"
      ]
    },
    {
      "cell_type": "code",
      "metadata": {
        "id": "GIkyzJ1QNqkX"
      },
      "source": [],
      "execution_count": null,
      "outputs": []
    },
    {
      "cell_type": "code",
      "metadata": {
        "id": "Gzv3SAJ8N8Fy"
      },
      "source": [],
      "execution_count": null,
      "outputs": []
    },
    {
      "cell_type": "markdown",
      "metadata": {
        "id": "EptlevV08YN6"
      },
      "source": [
        "#Gráficos con Pandas\n",
        "Pandas permite realizar algunos gráficos para inspeccionar los datos a analizar. Veamos algunos ejemplos:"
      ]
    },
    {
      "cell_type": "code",
      "metadata": {
        "id": "kz3FXxrP6ntr"
      },
      "source": [],
      "execution_count": null,
      "outputs": []
    },
    {
      "cell_type": "code",
      "metadata": {
        "id": "YJfiO94KbJ7z"
      },
      "source": [],
      "execution_count": null,
      "outputs": []
    },
    {
      "cell_type": "code",
      "metadata": {
        "id": "rmrCzCKHb4ed"
      },
      "source": [],
      "execution_count": null,
      "outputs": []
    },
    {
      "cell_type": "markdown",
      "metadata": {
        "id": "yBIM_sdYcB67"
      },
      "source": [
        "Los gráficos implementandos con las herramientas incluidas en Pandas están basadas en otra librería que es Matplotlib. En siguientes sesiones exploraremos esta librería, ya que permitirá elaborar gráficos mas personalizados y con mas características."
      ]
    }
  ]
}