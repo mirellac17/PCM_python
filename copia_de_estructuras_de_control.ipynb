{
  "nbformat": 4,
  "nbformat_minor": 0,
  "metadata": {
    "colab": {
      "provenance": [],
      "toc_visible": true,
      "include_colab_link": true
    },
    "kernelspec": {
      "name": "python3",
      "display_name": "Python 3"
    },
    "language_info": {
      "name": "python"
    }
  },
  "cells": [
    {
      "cell_type": "markdown",
      "metadata": {
        "id": "view-in-github",
        "colab_type": "text"
      },
      "source": [
        "<a href=\"https://colab.research.google.com/github/mirellac17/PCM_python/blob/main/copia_de_estructuras_de_control.ipynb\" target=\"_parent\"><img src=\"https://colab.research.google.com/assets/colab-badge.svg\" alt=\"Open In Colab\"/></a>"
      ]
    },
    {
      "cell_type": "markdown",
      "source": [
        "# Estructuras de control\n",
        "\n",
        "Hasta el momento, Python se muestra como una \"calculadora\" muy poderosa, capaz de ejecutar operaciones con números, cadenas de texto, etc. Sin embargo, los lenguajes de programación ofrecen mayores funcionalidades para controlar el flujo de la ejecución del programa. Se presentan dos estructuras de control: **condicionales** y **bucles**. Tenga en cuenta que las estructuras de control no son propias de Python, que están presentes en todo lenguaje de programación y si usted tiene experiencia con otros lenguajes se adaptará inmediatamente, caso contrario, verá la facilidad de leer el código en Python."
      ],
      "metadata": {
        "id": "cK3LLERINwlR"
      }
    },
    {
      "cell_type": "markdown",
      "source": [
        "# Condicional\n",
        "El condicional evalua una condición lógica. Luego de verificar si es verdadera ejecuta una acción, caso contrario, ejecuta otra acción (o ninguna). La sintaxis en Python es:\n",
        "\n",
        "```\n",
        "if (condicion):\n",
        "  # Ejecutar acción en caso la condición sea verdadera\n",
        "else:\n",
        "  # Ejecutar acción en caso la condición sea falsa.\n",
        "```\n",
        "\n",
        "Vemos algunos ejemplos:"
      ],
      "metadata": {
        "id": "c4Ez0sIqNzVu"
      }
    },
    {
      "cell_type": "code",
      "source": [
        "#Verificar si un usuario es mayor de edad\n",
        "edad = 25 #Declarar variable edad\n",
        "\n",
        "#Inicia el condicional\n",
        "if edad > 18: #Se verifica si la edad es mayor de 18\n",
        "  #Si es verdadero, se ejecuta la siguiente instrucción\n",
        "  print('Es mayor de edad')\n",
        "else: #Si la condición es falsa se ejecuta la siguiente instrucción\n",
        "  print('Es menor de edad')"
      ],
      "metadata": {
        "colab": {
          "base_uri": "https://localhost:8080/"
        },
        "id": "LtrzMuANSc7G",
        "outputId": "b8be4e68-f4c0-4b6c-c245-1ba15feecd93"
      },
      "execution_count": null,
      "outputs": [
        {
          "output_type": "stream",
          "name": "stdout",
          "text": [
            "Es mayor de edad\n"
          ]
        }
      ]
    },
    {
      "cell_type": "markdown",
      "source": [
        "El ejemplo anterior pone en evidencia un aspecto muy importante de Python, las líneas deben estar indentadas. Esta característica permite ordenar el código y hacerlo mas legible, pero requiere que el programador esté atento a este aspecto. Afortunadamente, los editores de texto modernos identifican el error y ayudan al programador a solucionar el problema inmediatamente.   \n"
      ],
      "metadata": {
        "id": "sguq4BIHVsB6"
      }
    },
    {
      "cell_type": "markdown",
      "source": [
        "Es posible tener mas de un condición a verificar. La estructura corresponde a:\n",
        "\n",
        "\n",
        "\n",
        "```\n",
        "if (condicion 1):\n",
        "  # acción si la condición 1 es verdadera\n",
        "elif (condicion 2):\n",
        "  # acción si la condición 2 es verdadera\n",
        "elif (condicion 3):\n",
        "  # acción si la condición 3 es verdadera\n",
        "else:\n",
        "  # acción si ninguna condición se cumple\n",
        "```\n",
        "Veamos un ejemplo:\n",
        "\n"
      ],
      "metadata": {
        "id": "An80Zd6eUrw7"
      }
    },
    {
      "cell_type": "code",
      "source": [
        "#Verificar si una persona es un adulto mayor, adulto, joven, adolescente o niño.\n",
        "#En caso se ingrese una edad no valida se muestra un mensaje de alerta\n",
        "edad = 75\n",
        "\n",
        "if edad > 60:\n",
        "  print('Adulto mayor')\n",
        "elif edad < 60 and edad > 30:\n",
        "  print('Adulto')\n",
        "elif edad < 30 and edad > 20:\n",
        "  print('Joven')\n",
        "elif edad < 20 and edad > 12:\n",
        "  print('Adolescente')\n",
        "elif edad < 12:\n",
        "  print('Niño')\n",
        "else:\n",
        "  print('No valido')"
      ],
      "metadata": {
        "id": "jFXt2mDNY2nD",
        "colab": {
          "base_uri": "https://localhost:8080/"
        },
        "outputId": "5ade7218-ca5a-4b96-8578-74b32253a104"
      },
      "execution_count": null,
      "outputs": [
        {
          "output_type": "stream",
          "name": "stdout",
          "text": [
            "Adulto mayor\n"
          ]
        }
      ]
    },
    {
      "cell_type": "markdown",
      "source": [
        "De ejemplo anterior ¿qué sucede si coloca 60? Explique, busque la solución y explore otros posibles problemas."
      ],
      "metadata": {
        "id": "zm8z_d76c1ZQ"
      }
    },
    {
      "cell_type": "markdown",
      "source": [
        "Es posible tener un condicional dentro de otro condicional, a esto se le denomina **condicional anidado** . Veamos un ejemplo:"
      ],
      "metadata": {
        "id": "RgTHDtWLc-GY"
      }
    },
    {
      "cell_type": "code",
      "source": [
        "#Primero se verifica si la edad es menor que cero para indicar si la edad es valida\n",
        "# o invalida. Luego se establece si es mayor o menor de edad\n",
        "\n",
        "edad = 19\n",
        "\n",
        "if edad  < 0:\n",
        "  print('Edad no válida')\n",
        "else:\n",
        "  print('Edad valida')\n",
        "  if edad > 18:\n",
        "    print('Mayor de edad')\n",
        "  else:\n",
        "    print('Menor de edad')"
      ],
      "metadata": {
        "colab": {
          "base_uri": "https://localhost:8080/"
        },
        "id": "U6DXYgHLdIyj",
        "outputId": "c3d0720b-9e23-4800-ccc2-961db2faebce"
      },
      "execution_count": null,
      "outputs": [
        {
          "output_type": "stream",
          "name": "stdout",
          "text": [
            "Edad valida\n",
            "Mayor de edad\n"
          ]
        }
      ]
    },
    {
      "cell_type": "markdown",
      "source": [
        "Incluya en el código anterior una sección que muestre una alerta en caso la edad sea irracionalmente alta"
      ],
      "metadata": {
        "id": "O0agwPILwcXn"
      }
    },
    {
      "cell_type": "code",
      "source": [
        "#Ejemplo: verifique que una lista tenga 5 elementos, de ser el caso imprima un mensaje confirmando esto,\n",
        "#caso contrario, que imprima una alerta indicando esto\n",
        "l = ['python','R','java','c']\n",
        "if len(l)==5:\n",
        "  print('OK')\n",
        "else:\n",
        "  print('ERROR')"
      ],
      "metadata": {
        "id": "xyRj6w03hmdb",
        "colab": {
          "base_uri": "https://localhost:8080/"
        },
        "outputId": "80cce27f-6f5d-4bce-fbde-d6f6d21b2333"
      },
      "execution_count": null,
      "outputs": [
        {
          "output_type": "stream",
          "name": "stdout",
          "text": [
            "ERROR\n"
          ]
        }
      ]
    },
    {
      "cell_type": "markdown",
      "source": [
        "#Bucles\n",
        "Hay ocasiones en que se requiere realizar repetitivamente una tarea. Para este tipo de situaciones se utilizan los **bucles**. Usaremos dos tipos de bucles: los bucles **for** y los bucles **while**."
      ],
      "metadata": {
        "id": "jWreCzMuN6RE"
      }
    },
    {
      "cell_type": "markdown",
      "source": [
        "## Bucle for\n",
        "En un bucle for se ejecuta una tarea un numero definido de veces. La estructura es la siguiente:\n",
        "\n",
        "```\n",
        "for CONTADOR in RANGO :\n",
        "  ACCIONES A EJECUTAR\n",
        "```\n",
        "\n",
        "Un *contador* es una variable (que no es necesario declarar previamente) que lleva al cuenta del número de veces que se ejecuta la tarea en el intervalo que el *rango* lo exija. Por ejemplo, si uno desea ejecutar una acción 5 veces el contador se encarga de llevar esta cuenta. El rango debe ser definido explicitamente, esto quiere decir que se conoce de antemando cuantas veces se ejecutará el código. Por ejemplo, el siguiente código imprime N veces una palabra.\n"
      ],
      "metadata": {
        "id": "U53GnOKXN9_i"
      }
    },
    {
      "cell_type": "code",
      "source": [
        "#Ejemplo de bucle for\n",
        "for i in range(5):\n",
        "  #Se imprime i en cada iteracion\n",
        "  print(i,'Hola')\n"
      ],
      "metadata": {
        "colab": {
          "base_uri": "https://localhost:8080/"
        },
        "id": "msvHtpLzjRO5",
        "outputId": "50a469d5-cfe3-45f0-9c94-b32ef6f93240"
      },
      "execution_count": null,
      "outputs": [
        {
          "output_type": "stream",
          "name": "stdout",
          "text": [
            "0 Hola\n",
            "1 Hola\n",
            "2 Hola\n",
            "3 Hola\n",
            "4 Hola\n"
          ]
        }
      ]
    },
    {
      "cell_type": "markdown",
      "source": [
        "Se puede usar cualquier nombre para indicar al contador, frecuentemente se usa **i**, **j**, o **k**. Fíjese que el contador **i** no fue declarado antes de que inicie el bucle, no es necesario hacerlo. La actualización del contador de aumentar de 1 en 1 se hace automaticamente en el rango establecido. También es posible variar el rango:"
      ],
      "metadata": {
        "id": "jiFm_WhG0UHP"
      }
    },
    {
      "cell_type": "code",
      "source": [
        "for i in range(2,10):\n",
        "  print(i)"
      ],
      "metadata": {
        "colab": {
          "base_uri": "https://localhost:8080/"
        },
        "id": "nK-BiYqR0zxZ",
        "outputId": "c0fa0c30-3d43-49a4-8340-5f2ab1000013"
      },
      "execution_count": null,
      "outputs": [
        {
          "output_type": "stream",
          "name": "stdout",
          "text": [
            "2\n",
            "3\n",
            "4\n",
            "5\n",
            "6\n",
            "7\n",
            "8\n",
            "9\n"
          ]
        }
      ]
    },
    {
      "cell_type": "code",
      "source": [
        "for i in range(2,10,2):\n",
        "  print(i)"
      ],
      "metadata": {
        "colab": {
          "base_uri": "https://localhost:8080/"
        },
        "id": "djlTQ4Mx1FRs",
        "outputId": "66c8fbc2-2ee0-4c98-a319-9d340b4d9c3f"
      },
      "execution_count": null,
      "outputs": [
        {
          "output_type": "stream",
          "name": "stdout",
          "text": [
            "2\n",
            "4\n",
            "6\n",
            "8\n"
          ]
        }
      ]
    },
    {
      "cell_type": "code",
      "source": [
        "for i in range(10,2,-1):\n",
        "  print(i)"
      ],
      "metadata": {
        "colab": {
          "base_uri": "https://localhost:8080/"
        },
        "id": "Ej730mBU1KZd",
        "outputId": "7ab62ce2-cfd7-4f11-b811-cb21d874ab0f"
      },
      "execution_count": null,
      "outputs": [
        {
          "output_type": "stream",
          "name": "stdout",
          "text": [
            "10\n",
            "9\n",
            "8\n",
            "7\n",
            "6\n",
            "5\n",
            "4\n",
            "3\n"
          ]
        }
      ]
    },
    {
      "cell_type": "markdown",
      "source": [
        "Veamos algunas aplicaciones, como puede ser mostar cada uno de los elementos en una lista."
      ],
      "metadata": {
        "id": "ZbQ1c3D61SUK"
      }
    },
    {
      "cell_type": "code",
      "source": [
        "lista = ['Ruben',30,'Python',True]\n",
        "for i in range(len(lista)):\n",
        "  print(i,lista[i])"
      ],
      "metadata": {
        "colab": {
          "base_uri": "https://localhost:8080/"
        },
        "id": "DcD4DEdbjYNQ",
        "outputId": "a4c7f769-7a3f-4f8c-955d-8532e26252b0"
      },
      "execution_count": null,
      "outputs": [
        {
          "output_type": "stream",
          "name": "stdout",
          "text": [
            "0 Ruben\n",
            "1 30\n",
            "2 Python\n",
            "3 True\n"
          ]
        }
      ]
    },
    {
      "cell_type": "code",
      "source": [
        "#Forma alternativa.\n",
        "for elemento in lista:\n",
        "  print(elemento)"
      ],
      "metadata": {
        "colab": {
          "base_uri": "https://localhost:8080/"
        },
        "id": "7D1WSbBhjwIN",
        "outputId": "a2069adb-b0d5-4b13-d90c-172a81f53811"
      },
      "execution_count": null,
      "outputs": [
        {
          "output_type": "stream",
          "name": "stdout",
          "text": [
            "Ruben\n",
            "30\n",
            "Python\n",
            "True\n"
          ]
        }
      ]
    },
    {
      "cell_type": "code",
      "source": [
        "#Tabla de multiplicar del 5\n",
        "numero = 5\n",
        "for i in range(0,11):\n",
        "  print(numero,'x',i,'=',numero*i)"
      ],
      "metadata": {
        "colab": {
          "base_uri": "https://localhost:8080/"
        },
        "id": "mR-dMdJhj18P",
        "outputId": "747d7dc9-5f7a-4d2c-e190-7d5884e5f8af"
      },
      "execution_count": null,
      "outputs": [
        {
          "output_type": "stream",
          "name": "stdout",
          "text": [
            "5 x 0 = 0\n",
            "5 x 1 = 5\n",
            "5 x 2 = 10\n",
            "5 x 3 = 15\n",
            "5 x 4 = 20\n",
            "5 x 5 = 25\n",
            "5 x 6 = 30\n",
            "5 x 7 = 35\n",
            "5 x 8 = 40\n",
            "5 x 9 = 45\n",
            "5 x 10 = 50\n"
          ]
        }
      ]
    },
    {
      "cell_type": "markdown",
      "source": [
        "Si se le pide ejecutar un código que realice la tabla de multiplicar de 2 al 10 usted debería ejecutar el código anterior varias veces. Es decir realizar un bucle dentro de otro bucle, a esto se le llama **bucle anidado**."
      ],
      "metadata": {
        "id": "cysyK_LNkLj9"
      }
    },
    {
      "cell_type": "code",
      "source": [
        "#Tabla de multiplicar del 1 al 10\n",
        "for numero in range(1,10):\n",
        "  print('Tabla del ',numero)\n",
        "  for i in range(1,10):\n",
        "    print(numero,'x',i,'=',numero*i)\n",
        "  print(10*'-')"
      ],
      "metadata": {
        "colab": {
          "base_uri": "https://localhost:8080/"
        },
        "id": "fCYHsGcDkQ1b",
        "outputId": "616f68ba-1f60-4e32-e1d6-d7057f37850e"
      },
      "execution_count": null,
      "outputs": [
        {
          "output_type": "stream",
          "name": "stdout",
          "text": [
            "Tabla del  1\n",
            "1 x 1 = 1\n",
            "1 x 2 = 2\n",
            "1 x 3 = 3\n",
            "1 x 4 = 4\n",
            "1 x 5 = 5\n",
            "1 x 6 = 6\n",
            "1 x 7 = 7\n",
            "1 x 8 = 8\n",
            "1 x 9 = 9\n",
            "----------\n",
            "Tabla del  2\n",
            "2 x 1 = 2\n",
            "2 x 2 = 4\n",
            "2 x 3 = 6\n",
            "2 x 4 = 8\n",
            "2 x 5 = 10\n",
            "2 x 6 = 12\n",
            "2 x 7 = 14\n",
            "2 x 8 = 16\n",
            "2 x 9 = 18\n",
            "----------\n",
            "Tabla del  3\n",
            "3 x 1 = 3\n",
            "3 x 2 = 6\n",
            "3 x 3 = 9\n",
            "3 x 4 = 12\n",
            "3 x 5 = 15\n",
            "3 x 6 = 18\n",
            "3 x 7 = 21\n",
            "3 x 8 = 24\n",
            "3 x 9 = 27\n",
            "----------\n",
            "Tabla del  4\n",
            "4 x 1 = 4\n",
            "4 x 2 = 8\n",
            "4 x 3 = 12\n",
            "4 x 4 = 16\n",
            "4 x 5 = 20\n",
            "4 x 6 = 24\n",
            "4 x 7 = 28\n",
            "4 x 8 = 32\n",
            "4 x 9 = 36\n",
            "----------\n",
            "Tabla del  5\n",
            "5 x 1 = 5\n",
            "5 x 2 = 10\n",
            "5 x 3 = 15\n",
            "5 x 4 = 20\n",
            "5 x 5 = 25\n",
            "5 x 6 = 30\n",
            "5 x 7 = 35\n",
            "5 x 8 = 40\n",
            "5 x 9 = 45\n",
            "----------\n",
            "Tabla del  6\n",
            "6 x 1 = 6\n",
            "6 x 2 = 12\n",
            "6 x 3 = 18\n",
            "6 x 4 = 24\n",
            "6 x 5 = 30\n",
            "6 x 6 = 36\n",
            "6 x 7 = 42\n",
            "6 x 8 = 48\n",
            "6 x 9 = 54\n",
            "----------\n",
            "Tabla del  7\n",
            "7 x 1 = 7\n",
            "7 x 2 = 14\n",
            "7 x 3 = 21\n",
            "7 x 4 = 28\n",
            "7 x 5 = 35\n",
            "7 x 6 = 42\n",
            "7 x 7 = 49\n",
            "7 x 8 = 56\n",
            "7 x 9 = 63\n",
            "----------\n",
            "Tabla del  8\n",
            "8 x 1 = 8\n",
            "8 x 2 = 16\n",
            "8 x 3 = 24\n",
            "8 x 4 = 32\n",
            "8 x 5 = 40\n",
            "8 x 6 = 48\n",
            "8 x 7 = 56\n",
            "8 x 8 = 64\n",
            "8 x 9 = 72\n",
            "----------\n",
            "Tabla del  9\n",
            "9 x 1 = 9\n",
            "9 x 2 = 18\n",
            "9 x 3 = 27\n",
            "9 x 4 = 36\n",
            "9 x 5 = 45\n",
            "9 x 6 = 54\n",
            "9 x 7 = 63\n",
            "9 x 8 = 72\n",
            "9 x 9 = 81\n",
            "----------\n"
          ]
        }
      ]
    },
    {
      "cell_type": "markdown",
      "source": [
        "## Bucle while\n",
        "\n",
        "Este bucle verifica una condición lógica y ejecuta una acción mientras la condición sea verdadera. Si la condición no se cumple el bucle finaliza. A diferencia del bucle **for** que se indica claramente cuantas veces se ejecuta el bucle, en el bucle **while** no necesariamente se sabe cuantas veces se ejecutará el bucle."
      ],
      "metadata": {
        "id": "HoR7J9SLOE7a"
      }
    },
    {
      "cell_type": "code",
      "source": [
        "#Ejecumple de bucle while\n",
        "num = 10\n",
        "i = 0 #Se declara el contador\n",
        "while i < num: #se verifica la condicion\n",
        "  print(i)\n",
        "  i=i+1 #el contador aumenta en 1"
      ],
      "metadata": {
        "id": "TNH1ZYggOLFY",
        "colab": {
          "base_uri": "https://localhost:8080/"
        },
        "outputId": "fe4a32bd-30c4-4d7e-9002-0216e07c3715"
      },
      "execution_count": null,
      "outputs": [
        {
          "output_type": "stream",
          "name": "stdout",
          "text": [
            "0\n",
            "1\n",
            "2\n",
            "3\n",
            "4\n",
            "5\n",
            "6\n",
            "7\n",
            "8\n",
            "9\n"
          ]
        }
      ]
    },
    {
      "cell_type": "code",
      "source": [
        "#mostrar numeros pares\n",
        "num = 50\n",
        "i = 1\n",
        "while i < num:\n",
        "  if i%2==0:\n",
        "    print(i)\n",
        "  i+=1"
      ],
      "metadata": {
        "colab": {
          "base_uri": "https://localhost:8080/"
        },
        "id": "oZe9-pzCtxlW",
        "outputId": "0f5d88aa-b62a-42ac-be98-5eb3338ee62b"
      },
      "execution_count": null,
      "outputs": [
        {
          "output_type": "stream",
          "name": "stdout",
          "text": [
            "2\n",
            "4\n",
            "6\n",
            "8\n",
            "10\n",
            "12\n",
            "14\n",
            "16\n",
            "18\n",
            "20\n",
            "22\n",
            "24\n",
            "26\n",
            "28\n",
            "30\n",
            "32\n",
            "34\n",
            "36\n",
            "38\n",
            "40\n",
            "42\n",
            "44\n",
            "46\n",
            "48\n"
          ]
        }
      ]
    },
    {
      "cell_type": "code",
      "source": [
        "#mostrar divisores de un número\n",
        "num = 105\n",
        "i = 1\n",
        "while i <= num/2 :\n",
        "  #print(i)\n",
        "  if num%i==0:\n",
        "    print(i)\n",
        "  i+=1\n"
      ],
      "metadata": {
        "colab": {
          "base_uri": "https://localhost:8080/"
        },
        "id": "5JNMGahpuErM",
        "outputId": "03137d54-d768-4c31-f74f-be61fada71a4"
      },
      "execution_count": null,
      "outputs": [
        {
          "output_type": "stream",
          "name": "stdout",
          "text": [
            "1\n",
            "3\n",
            "5\n",
            "7\n",
            "15\n",
            "21\n",
            "35\n"
          ]
        }
      ]
    },
    {
      "cell_type": "markdown",
      "source": [
        "# Ejemplo: Minimos cuadrados\n",
        "El método de mínimos cuadrados permite determinar la ecuación de la recta que mejor se ajusta a un conjunto de datos. Es importante recordar que la ecuación de una recta es $y=mx+b$ donde $y$ representa a la variable dependiente y $x$ representa a la variable independiente. Además $m$ es la pendiente de la recta y $b$ la intersección con el eje vertical.\n",
        "\n",
        "Dado un conjunto de datos $X$ y $Y$ que se relacionan linealmente, el método de mínimos cuadrados permite encontrar la ecuación de la recta que mejor se ajusta a los datos, de modo que minimiza el error cuadratico medio. La pendiente $m$  y el valor $b$ queda dado por:\n",
        "\n",
        "$m = \\frac{\\sum xy - \\frac{\\sum x \\sum y}{n}}{\\sum x^2 - \\frac{(\\sum x)^2}{n}}$\n",
        "\n",
        "$b = \\bar{y} - m \\bar{x}$\n",
        "\n",
        "Con lo hecho previamente podemos programar el método:"
      ],
      "metadata": {
        "id": "6HL311B4fxFS"
      }
    },
    {
      "cell_type": "code",
      "source": [
        "#minimos cuadrados\n",
        "x = [8,2,11,6,5,4,12,9,6,1]\n",
        "y = [3,10,3,6,8,12,1,4,9,14]\n",
        "\n",
        "n = len(x)\n",
        "\n",
        "xyLista = []\n",
        "x2Lista = []\n",
        "y2Lista = []\n",
        "for i in range(len(x)):\n",
        "  xyLista.append(x[i]*y[i])\n",
        "  x2Lista.append(x[i]**2)\n",
        "  y2Lista.append(y[i]**2)\n",
        "\n",
        "\n",
        "print('xy',xyLista)\n",
        "print('x2',x2Lista)\n",
        "\n",
        "xy = sum(xyLista)\n",
        "x2 = sum(x2Lista)\n",
        "y2 = sum(y2Lista)\n",
        "\n",
        "promx = sum(x)/len(x)\n",
        "promy = sum(y)/len(y)\n",
        "\n",
        "m = (xy - (sum(x)*sum(y)/n))/(x2-(sum(x)**2/n))\n",
        "b = promy - m * promx\n",
        "\n",
        "print(m,b)\n"
      ],
      "metadata": {
        "colab": {
          "base_uri": "https://localhost:8080/"
        },
        "id": "Les-06zSf6VO",
        "outputId": "29b5adcc-8783-44ab-b269-4a7fa0905d14"
      },
      "execution_count": null,
      "outputs": [
        {
          "output_type": "stream",
          "name": "stdout",
          "text": [
            "xy [24, 20, 33, 36, 40, 48, 12, 36, 54, 14]\n",
            "x2 [64, 4, 121, 36, 25, 16, 144, 81, 36, 1]\n",
            "-1.106418918918919 14.081081081081082\n"
          ]
        }
      ]
    },
    {
      "cell_type": "markdown",
      "source": [
        "El coeficiente de correlación **R**  es un valor que indica que tan bueno es el ajuste lineal. Toma valores entre -1 y 1. Es positivo si la correlación es directamente proporcional, es negativo si la correlación es inversamente proporcional y se aproxima a 0 si los datos no se ajustan a una recta. Esta dado por la expresión:\n",
        "\n",
        "$R = \\frac{n \\sum xy - \\sum x \\sum y}{\\sqrt{n \\sum x^{2} -(\\sum x)^2}\\sqrt{n \\sum y^{2}-(\\sum y)^2}}$"
      ],
      "metadata": {
        "id": "uG_XNxFzsnZr"
      }
    },
    {
      "cell_type": "code",
      "source": [
        "#determinar el coeficiente de correlacion\n",
        "\n",
        "(n*xy-sum(x)*sum(y))/((n*x2-sum(x)**2)**0.5*(n*y2-sum(y)**0.5)**0.5)"
      ],
      "metadata": {
        "colab": {
          "base_uri": "https://localhost:8080/"
        },
        "id": "HetGF3yMsClP",
        "outputId": "12cc0c2d-75fc-407b-f7ff-8693d7eab7be"
      },
      "execution_count": null,
      "outputs": [
        {
          "output_type": "execute_result",
          "data": {
            "text/plain": [
              "-0.4703494606332049"
            ]
          },
          "metadata": {},
          "execution_count": 4
        }
      ]
    },
    {
      "cell_type": "markdown",
      "source": [],
      "metadata": {
        "id": "MVvYg4IOvcSw"
      }
    }
  ]
}