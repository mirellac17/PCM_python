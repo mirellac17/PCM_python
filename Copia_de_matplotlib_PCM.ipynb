{
  "nbformat": 4,
  "nbformat_minor": 0,
  "metadata": {
    "colab": {
      "provenance": [],
      "include_colab_link": true
    },
    "kernelspec": {
      "name": "python3",
      "display_name": "Python 3"
    },
    "language_info": {
      "name": "python"
    }
  },
  "cells": [
    {
      "cell_type": "markdown",
      "metadata": {
        "id": "view-in-github",
        "colab_type": "text"
      },
      "source": [
        "<a href=\"https://colab.research.google.com/github/mirellac17/PCM_python/blob/main/Copia_de_matplotlib_PCM.ipynb\" target=\"_parent\"><img src=\"https://colab.research.google.com/assets/colab-badge.svg\" alt=\"Open In Colab\"/></a>"
      ]
    },
    {
      "cell_type": "markdown",
      "metadata": {
        "id": "5FKeurKylyMC"
      },
      "source": [
        "#Matplotlib\n",
        "\n",
        "La librería Matplotlib se utiliza para realizar gráficas de los datos. Se usa frecuentemente con numpy y/o pandas."
      ]
    },
    {
      "cell_type": "markdown",
      "metadata": {
        "id": "6j6GDAjIa2df"
      },
      "source": [
        "#Graficar funciones matemáticas\n",
        "Podemos graficar diferentes funciones matemáticas como en cualquier software matemático. Numpy nos ofrece variedad de funciones matemáticas como ya exploramos anteriormente. De todos modos, podemos definir nuestras propias funciones y graficarlas."
      ]
    },
    {
      "cell_type": "code",
      "metadata": {
        "id": "7aroSZIXj5Qx"
      },
      "source": [
        "\n"
      ],
      "execution_count": null,
      "outputs": []
    },
    {
      "cell_type": "code",
      "metadata": {
        "id": "8bmh-kuQyh1m"
      },
      "source": [
        "#intente con una función matemática cualquiera y explore los resultados\n",
        "#tenga cuidado que la función esté correctamente definida\n"
      ],
      "execution_count": null,
      "outputs": []
    },
    {
      "cell_type": "code",
      "metadata": {
        "id": "7aeQPOyC0WaB"
      },
      "source": [
        "#En este ejemplo vemos como graficar una función paramétrica\n"
      ],
      "execution_count": null,
      "outputs": []
    },
    {
      "cell_type": "code",
      "metadata": {
        "id": "AJyol_8t2d4q"
      },
      "source": [
        "#Podemos tener mas de una función en le mismo gráfico\n"
      ],
      "execution_count": null,
      "outputs": []
    },
    {
      "cell_type": "markdown",
      "metadata": {
        "id": "j9QZPzMviWWN"
      },
      "source": [
        "# Guardar plots\n",
        "Los gráficos pueden ser exportados en diferentes formatos (jpg, eps, png) Dependiendo del uso de la imagen, deberá escoger un formato adecuado (presentar en Power Point, incluir en $\\LaTeX$, etc.) Se admite diferentes parámetros como cambiar la resolución, tamaño, etc. https://matplotlib.org/stable/api/_as_gen/matplotlib.pyplot.savefig.html"
      ]
    },
    {
      "cell_type": "code",
      "metadata": {
        "id": "FBjEZcgNg2CX"
      },
      "source": [],
      "execution_count": null,
      "outputs": []
    },
    {
      "cell_type": "markdown",
      "metadata": {
        "id": "KKAr-9zpkAbv"
      },
      "source": [
        "# Subplots\n",
        "En una imagen es posible tener gráficos independientes. Esto se logra con el comando subplot(). Veamos como graficar dos distribuciones de probabilidad para compararlas."
      ]
    },
    {
      "cell_type": "code",
      "metadata": {
        "id": "Hya7UhJMmCjy"
      },
      "source": [
        "#Graficaremos diferentes distribuciones de probabilidad\n"
      ],
      "execution_count": null,
      "outputs": []
    },
    {
      "cell_type": "markdown",
      "metadata": {
        "id": "7lyKN5Iqeri8"
      },
      "source": [
        "Note que se puede editar cada figura de modo independiente. Observe los ejes, tienen límites diferentes.\n",
        "\n",
        "En el siguiente ejemplo, veamos como graficar 4 distribuciones de probabilidad."
      ]
    },
    {
      "cell_type": "code",
      "metadata": {
        "id": "PmzEgL-Z4dcG"
      },
      "source": [
        "#creamos un espacio donde habra 2x2 gráficos\n"
      ],
      "execution_count": null,
      "outputs": []
    },
    {
      "cell_type": "markdown",
      "metadata": {
        "id": "I-ZsbhaBgAEq"
      },
      "source": [
        "#Histogramas"
      ]
    },
    {
      "cell_type": "code",
      "metadata": {
        "id": "5AsuXll3-7ij"
      },
      "source": [
        "#histograma\n"
      ],
      "execution_count": null,
      "outputs": []
    },
    {
      "cell_type": "markdown",
      "metadata": {
        "id": "365lx6JZhplZ"
      },
      "source": [
        "#Gráfico de barras"
      ]
    },
    {
      "cell_type": "code",
      "metadata": {
        "id": "vyK5LlX7A4CS"
      },
      "source": [
        "#barplot\n"
      ],
      "execution_count": null,
      "outputs": []
    },
    {
      "cell_type": "code",
      "metadata": {
        "id": "orYMN3r1CJDU"
      },
      "source": [],
      "execution_count": null,
      "outputs": []
    },
    {
      "cell_type": "markdown",
      "metadata": {
        "id": "FgQ1J5LNif13"
      },
      "source": [
        "#Gráfico circular\n"
      ]
    },
    {
      "cell_type": "code",
      "metadata": {
        "id": "YNMyXNnmCP6e"
      },
      "source": [
        "#pie\n"
      ],
      "execution_count": null,
      "outputs": []
    },
    {
      "cell_type": "markdown",
      "metadata": {
        "id": "7CMS2rW5ixVv"
      },
      "source": [
        "#Mapas de calor\n",
        "\n",
        "En este tipo de gráficos se le asigna un color a cada elemento de un arreglo bidimensional. El color estará relacionado con un valor numérico."
      ]
    },
    {
      "cell_type": "code",
      "metadata": {
        "id": "rEwEVyE0ApKE"
      },
      "source": [
        "#heatmap\n"
      ],
      "execution_count": null,
      "outputs": []
    },
    {
      "cell_type": "markdown",
      "metadata": {
        "id": "KGMZN4GkjtQn"
      },
      "source": [
        "Todas las opciones para cmap se encuentra en: https://matplotlib.org/stable/tutorials/colors/colormaps.html\n",
        "\n",
        "Otra alternatica es pcolormesh(), aqui debe definirse las coordenadas de una cuadrícula usando np.meshgrid(). Una función z que depende de x,y puede ser definida y graficada."
      ]
    },
    {
      "cell_type": "code",
      "metadata": {
        "id": "baHPyTfCJ8Ng"
      },
      "source": [],
      "execution_count": null,
      "outputs": []
    },
    {
      "cell_type": "code",
      "metadata": {
        "id": "xcKJdAo3lCQy"
      },
      "source": [],
      "execution_count": null,
      "outputs": []
    },
    {
      "cell_type": "markdown",
      "metadata": {
        "id": "Ab5d_Q_NlC3B"
      },
      "source": [
        "Del mismo modo, con imshow()"
      ]
    },
    {
      "cell_type": "code",
      "metadata": {
        "id": "5W9rPm68O-bO"
      },
      "source": [],
      "execution_count": null,
      "outputs": []
    },
    {
      "cell_type": "markdown",
      "metadata": {
        "id": "XLwYpklzlGFL"
      },
      "source": [
        "contour() permite hacer curvas de nivel de la función anterior"
      ]
    },
    {
      "cell_type": "code",
      "metadata": {
        "id": "SJB3rzc-NJsN"
      },
      "source": [],
      "execution_count": null,
      "outputs": []
    }
  ]
}