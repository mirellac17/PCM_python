{
  "nbformat": 4,
  "nbformat_minor": 0,
  "metadata": {
    "colab": {
      "provenance": [],
      "include_colab_link": true
    },
    "kernelspec": {
      "name": "python3",
      "display_name": "Python 3"
    }
  },
  "cells": [
    {
      "cell_type": "markdown",
      "metadata": {
        "id": "view-in-github",
        "colab_type": "text"
      },
      "source": [
        "<a href=\"https://colab.research.google.com/github/mirellac17/PCM_python/blob/main/Copia_de_numpy02_PCM.ipynb\" target=\"_parent\"><img src=\"https://colab.research.google.com/assets/colab-badge.svg\" alt=\"Open In Colab\"/></a>"
      ]
    },
    {
      "cell_type": "markdown",
      "metadata": {
        "id": "9JvdgdY8UFZD"
      },
      "source": [
        "#Uso de Numpy para determinar la matriz de correlación.\n",
        "\n",
        "La correlación entre dos variables se define como:\n",
        "\n",
        "$R_{xy} = \\frac{n\\sum x_i y_i - \\sum x_i \\sum y_i}{\\sqrt{n \\sum x_i ^2 -(\\sum x_i)^2} \\sqrt{n \\sum y_i ^2 -(\\sum y_i)^2}}$\n",
        "\n",
        "Pero si tenemos una tabla de datos con mas de dos variables a estudiar podemos hallar la correlación entre cada una de estas. Si estas son agrupadas en una matriz, a esta se le llama *matriz de correlacion* .\n"
      ]
    },
    {
      "cell_type": "code",
      "metadata": {
        "id": "xU9SuZWdaLkc",
        "colab": {
          "base_uri": "https://localhost:8080/"
        },
        "outputId": "b0180577-d695-4bd2-c15a-3ba7a3158114"
      },
      "source": [
        "#Cada dato corresponde a datos metereologicos de SO2, temperatura anual media, numero de empresas mayores de 20 trab\n",
        "#poblacion en miles de hab, velocidad media del viento , precipitacion anual media,dias lluviosos al año\n",
        "\n",
        "import numpy as np\n",
        "\n",
        "Phoenix=np.array([10.00, 70.30, 213.00, 582.00, 6.00, 7.05, 36.00])\n",
        "Little_Rock=np.array([13.00, 61.00, 91.00, 132.00, 8.20, 48.52, 100.00])\n",
        "San_Francisco=np.array([ 12.00, 56.70, 453.00, 716.00, 8.70, 20.66, 67.00])\n",
        "Denver=np.array([ 17.00, 51.90, 454.00, 515.00, 9.00, 12.95, 86.00])\n",
        "Hartford=np.array([ 56.00, 49.10, 412.00, 158.00, 9.00, 43.37, 127.00])\n",
        "Wilmington =np.array([ 36.00, 54.00, 80.00, 80.00, 9.00, 40.25, 114.00])\n",
        "Washington =np.array([ 29.00, 57.30, 434.00, 757.00, 9.30, 38.89, 111.00])\n",
        "Jacksonville =np.array([ 14.00, 68.40, 136.00, 529.00, 8.80, 54.47, 116.00])\n",
        "Miami =np.array([ 10.00, 75.50, 207.00, 335.00, 9.00, 59.80, 128.00])\n",
        "Atlanta =np.array([ 24.00, 61.50, 368.00, 497.00, 9.10, 48.34, 115.00])\n",
        "Chicago=np.array([ 110.00, 50.60, 3344.00, 3369.00, 10.40, 34.44, 122.00])\n",
        "Indianapolis=np.array([ 28.00, 52.30, 361.00, 746.00, 9.70, 38.74, 121.00])\n",
        "Des_Moines=np.array([ 17.00, 49.00, 104.00, 201.00, 11.20, 30.85, 103.00])\n",
        "Wichita=np.array([ 8.00, 56.60, 125.00, 277.00, 12.70, 30.58, 82.00])\n",
        "Louisville=np.array([ 30.00, 55.60, 291.00, 593.00, 8.30, 43.11, 123.00])\n",
        "New_Orleans=np.array([ 9.00, 68.30, 204.00, 361.00, 8.40, 56.77, 113.00])\n",
        "Baltimore=np.array([ 47.00, 55.00, 625.00, 905.00, 9.60, 41.31, 111.00])\n",
        "Detroit=np.array([ 35.00, 49.90, 1064.00, 1513.00, 10.10, 30.96, 129.00])\n",
        "Minneapolis_StPaul=np.array([ 29.00, 43.50, 699.00, 744.00, 10.60, 25.94, 137.00])\n",
        "Kansas_City=np.array([14.00, 54.50, 381.00, 507.00, 10.00, 37.00, 99.00])\n",
        "StLouis=np.array([ 56.00, 55.90, 775.00, 622.00, 9.50, 35.89, 105.00])\n",
        "Omaha=np.array([ 14.00, 51.50, 181.00, 347.00, 10.90, 30.18, 98.00])\n",
        "Alburquerque=np.array([ 11.00, 56.80, 46.00, 244.00, 8.90, 7.77, 58.00])\n",
        "Albany=np.array([ 46.00, 47.60, 44.00, 116.00, 8.80, 33.36, 135.00])\n",
        "Buffalo=np.array([ 11.00, 47.10, 391.00, 463.00, 12.40, 36.11, 166.00])\n",
        "Cincinnati=np.array([ 23.00, 54.00, 462.00, 453.00, 7.10, 39.04, 132.00])\n",
        "Cleveland=np.array([ 65.00, 49.70, 1007.00, 751.00, 10.90, 34.99, 155.00])\n",
        "Columbus=np.array([ 26.00, 51.50, 266.00, 540.00, 8.60, 37.01, 134.00])\n",
        "Philadelphia=np.array([ 69.00, 54.60, 1692.00, 1950.00, 9.60, 39.93, 115.00])\n",
        "Pittsburgh=np.array([ 61.00, 50.40, 347.00, 520.00, 9.40, 36.22, 147.00])\n",
        "Providence=np.array([ 94.00, 50.00, 343.00, 179.00, 10.60, 42.75, 125.00])\n",
        "Memphis=np.array([ 10.00, 61.60, 337.00, 624.00, 9.20, 49.10, 105.00])\n",
        "Nashville=np.array([ 18.00, 59.40, 275.00, 448.00, 7.90, 46.00, 119.00])\n",
        "Dallas=np.array([ 9.00, 66.20, 641.00, 844.00, 10.90, 35.94, 78.00])\n",
        "Houston=np.array([ 10.00, 68.90, 721.00, 1233.00, 10.80, 48.19, 103.00])\n",
        "Salt_Lake_City=np.array([ 28.00, 51.00, 137.00, 176.00, 8.70, 15.17, 89.00])\n",
        "Norfolk=np.array([ 31.00, 59.30, 96.00, 308.00, 10.60, 44.68, 116.00])\n",
        "Richmond=np.array([ 26.00, 57.80, 197.00, 299.00, 7.60, 42.59, 115.00])\n",
        "Seattle=np.array([ 29.00, 51.10, 379.00, 531.00, 9.40, 38.79, 164.00])\n",
        "Charleston=np.array([ 31.00, 55.20, 35.00, 71.00, 6.50, 40.75, 148.00])\n",
        "Milwaukee=np.array([ 16.00, 45.70, 569.00, 717.00, 11.80, 29.07, 123.00])\n",
        "\n",
        "data=np.array([Phoenix,Little_Rock,San_Francisco,Denver,Hartford,Wilmington,\n",
        "Washington, Jacksonville,Miami ,Atlanta,Chicago,Indianapolis,Des_Moines,\n",
        "Wichita,Louisville,New_Orleans,Baltimore,Detroit,Minneapolis_StPaul,\n",
        "Kansas_City,StLouis,Omaha,Alburquerque,Albany,Buffalo,Cincinnati,\n",
        "Cleveland,Columbus,Philadelphia,Pittsburgh,Providence,Memphis,Nashville,Dallas,\n",
        "Houston,Salt_Lake_City,Norfolk,Richmond,Seattle,Charleston,Milwaukee])\n",
        "\n",
        "print(data)"
      ],
      "execution_count": null,
      "outputs": [
        {
          "output_type": "stream",
          "name": "stdout",
          "text": [
            "[[  10.     70.3   213.    582.      6.      7.05   36.  ]\n",
            " [  13.     61.     91.    132.      8.2    48.52  100.  ]\n",
            " [  12.     56.7   453.    716.      8.7    20.66   67.  ]\n",
            " [  17.     51.9   454.    515.      9.     12.95   86.  ]\n",
            " [  56.     49.1   412.    158.      9.     43.37  127.  ]\n",
            " [  36.     54.     80.     80.      9.     40.25  114.  ]\n",
            " [  29.     57.3   434.    757.      9.3    38.89  111.  ]\n",
            " [  14.     68.4   136.    529.      8.8    54.47  116.  ]\n",
            " [  10.     75.5   207.    335.      9.     59.8   128.  ]\n",
            " [  24.     61.5   368.    497.      9.1    48.34  115.  ]\n",
            " [ 110.     50.6  3344.   3369.     10.4    34.44  122.  ]\n",
            " [  28.     52.3   361.    746.      9.7    38.74  121.  ]\n",
            " [  17.     49.    104.    201.     11.2    30.85  103.  ]\n",
            " [   8.     56.6   125.    277.     12.7    30.58   82.  ]\n",
            " [  30.     55.6   291.    593.      8.3    43.11  123.  ]\n",
            " [   9.     68.3   204.    361.      8.4    56.77  113.  ]\n",
            " [  47.     55.    625.    905.      9.6    41.31  111.  ]\n",
            " [  35.     49.9  1064.   1513.     10.1    30.96  129.  ]\n",
            " [  29.     43.5   699.    744.     10.6    25.94  137.  ]\n",
            " [  14.     54.5   381.    507.     10.     37.     99.  ]\n",
            " [  56.     55.9   775.    622.      9.5    35.89  105.  ]\n",
            " [  14.     51.5   181.    347.     10.9    30.18   98.  ]\n",
            " [  11.     56.8    46.    244.      8.9     7.77   58.  ]\n",
            " [  46.     47.6    44.    116.      8.8    33.36  135.  ]\n",
            " [  11.     47.1   391.    463.     12.4    36.11  166.  ]\n",
            " [  23.     54.    462.    453.      7.1    39.04  132.  ]\n",
            " [  65.     49.7  1007.    751.     10.9    34.99  155.  ]\n",
            " [  26.     51.5   266.    540.      8.6    37.01  134.  ]\n",
            " [  69.     54.6  1692.   1950.      9.6    39.93  115.  ]\n",
            " [  61.     50.4   347.    520.      9.4    36.22  147.  ]\n",
            " [  94.     50.    343.    179.     10.6    42.75  125.  ]\n",
            " [  10.     61.6   337.    624.      9.2    49.1   105.  ]\n",
            " [  18.     59.4   275.    448.      7.9    46.    119.  ]\n",
            " [   9.     66.2   641.    844.     10.9    35.94   78.  ]\n",
            " [  10.     68.9   721.   1233.     10.8    48.19  103.  ]\n",
            " [  28.     51.    137.    176.      8.7    15.17   89.  ]\n",
            " [  31.     59.3    96.    308.     10.6    44.68  116.  ]\n",
            " [  26.     57.8   197.    299.      7.6    42.59  115.  ]\n",
            " [  29.     51.1   379.    531.      9.4    38.79  164.  ]\n",
            " [  31.     55.2    35.     71.      6.5    40.75  148.  ]\n",
            " [  16.     45.7   569.    717.     11.8    29.07  123.  ]]\n"
          ]
        }
      ]
    },
    {
      "cell_type": "code",
      "metadata": {
        "id": "mj0D8JumesL1"
      },
      "source": [
        "#Agrupar datos por variables.\n"
      ],
      "execution_count": null,
      "outputs": []
    },
    {
      "cell_type": "code",
      "metadata": {
        "id": "b6PSmhze_lUh"
      },
      "source": [
        "#Vamos a definir una funcion correlacion\n"
      ],
      "execution_count": null,
      "outputs": []
    },
    {
      "cell_type": "code",
      "metadata": {
        "id": "JCXiBupxa-I6"
      },
      "source": [
        "\n",
        "#Probemos la funcion , correlacion de so2 con las otras variables.\n"
      ],
      "execution_count": null,
      "outputs": []
    },
    {
      "cell_type": "code",
      "metadata": {
        "id": "wCncIVnebj2W"
      },
      "source": [
        "#Mostremos toda la info.\n",
        "\n"
      ],
      "execution_count": null,
      "outputs": []
    },
    {
      "cell_type": "code",
      "metadata": {
        "id": "RZArQDE4fG2r"
      },
      "source": [
        "#Tarea: Dele formato de matriz."
      ],
      "execution_count": null,
      "outputs": []
    }
  ]
}