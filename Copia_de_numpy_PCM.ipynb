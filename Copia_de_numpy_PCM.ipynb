{
  "nbformat": 4,
  "nbformat_minor": 0,
  "metadata": {
    "colab": {
      "provenance": [],
      "include_colab_link": true
    },
    "kernelspec": {
      "name": "python3",
      "display_name": "Python 3"
    },
    "language_info": {
      "name": "python"
    }
  },
  "cells": [
    {
      "cell_type": "markdown",
      "metadata": {
        "id": "view-in-github",
        "colab_type": "text"
      },
      "source": [
        "<a href=\"https://colab.research.google.com/github/mirellac17/PCM_python/blob/main/Copia_de_numpy_PCM.ipynb\" target=\"_parent\"><img src=\"https://colab.research.google.com/assets/colab-badge.svg\" alt=\"Open In Colab\"/></a>"
      ]
    },
    {
      "cell_type": "markdown",
      "source": [
        "#Librerías en Python\n",
        "Muchas funciones relacionadas entre sí pueden asociarse en un bloque única. Este conjunto recibe el nombre de 'librería' (y viene acompañada de otros elementos llamados objetos y clases, esto escapa al paradigma de programación que estamos viendo) . Existen librerías especializadas en distintas tareas. Nos enfocaremos en la libería Numpy, que es una de las importantes para realizar tareas de análisis de datos.\n"
      ],
      "metadata": {
        "id": "OO63YbImSl29"
      }
    },
    {
      "cell_type": "markdown",
      "source": [
        "#Librería Numpy\n",
        "Numpy (Numerical Python) es la librería para manipular vectores y matrices, y realizar operaciones entre estas. Es necesario tener el cuenta que gran parte de procesos estadísticos son operaciones matriciales. Además, posee diversas aplicaciones en otro campos como la visión por computadora o procesamiento del lenguaje natural.\n"
      ],
      "metadata": {
        "id": "TYE0Dc91TGO5"
      }
    },
    {
      "cell_type": "code",
      "source": [
        "import numpy as np\n",
        "#arrays\n",
        "vector1 = np.array([10,30,-2,40,-2])\n",
        "vector2 = np.arange(0,10,0.1)\n",
        "vector3 = np.linspace(0,10,101)\n",
        "print(vector1)\n",
        "print(vector2)\n",
        "print(vector3)"
      ],
      "metadata": {
        "colab": {
          "base_uri": "https://localhost:8080/"
        },
        "id": "taaYLHxJTa2f",
        "outputId": "e2c0760d-8790-4a99-fbda-760d1a29e72e"
      },
      "execution_count": null,
      "outputs": [
        {
          "output_type": "stream",
          "name": "stdout",
          "text": [
            "[10 30 -2 40 -2]\n",
            "[0.  0.1 0.2 0.3 0.4 0.5 0.6 0.7 0.8 0.9 1.  1.1 1.2 1.3 1.4 1.5 1.6 1.7\n",
            " 1.8 1.9 2.  2.1 2.2 2.3 2.4 2.5 2.6 2.7 2.8 2.9 3.  3.1 3.2 3.3 3.4 3.5\n",
            " 3.6 3.7 3.8 3.9 4.  4.1 4.2 4.3 4.4 4.5 4.6 4.7 4.8 4.9 5.  5.1 5.2 5.3\n",
            " 5.4 5.5 5.6 5.7 5.8 5.9 6.  6.1 6.2 6.3 6.4 6.5 6.6 6.7 6.8 6.9 7.  7.1\n",
            " 7.2 7.3 7.4 7.5 7.6 7.7 7.8 7.9 8.  8.1 8.2 8.3 8.4 8.5 8.6 8.7 8.8 8.9\n",
            " 9.  9.1 9.2 9.3 9.4 9.5 9.6 9.7 9.8 9.9]\n",
            "[ 0.   0.1  0.2  0.3  0.4  0.5  0.6  0.7  0.8  0.9  1.   1.1  1.2  1.3\n",
            "  1.4  1.5  1.6  1.7  1.8  1.9  2.   2.1  2.2  2.3  2.4  2.5  2.6  2.7\n",
            "  2.8  2.9  3.   3.1  3.2  3.3  3.4  3.5  3.6  3.7  3.8  3.9  4.   4.1\n",
            "  4.2  4.3  4.4  4.5  4.6  4.7  4.8  4.9  5.   5.1  5.2  5.3  5.4  5.5\n",
            "  5.6  5.7  5.8  5.9  6.   6.1  6.2  6.3  6.4  6.5  6.6  6.7  6.8  6.9\n",
            "  7.   7.1  7.2  7.3  7.4  7.5  7.6  7.7  7.8  7.9  8.   8.1  8.2  8.3\n",
            "  8.4  8.5  8.6  8.7  8.8  8.9  9.   9.1  9.2  9.3  9.4  9.5  9.6  9.7\n",
            "  9.8  9.9 10. ]\n"
          ]
        }
      ]
    },
    {
      "cell_type": "code",
      "source": [
        "#El acceso a los elementos es igual que al de las listas\n",
        "print(vector1[0])\n",
        "print(vector2[0])\n",
        "print(vector3[0])\n",
        "print(vector3[-1])\n",
        "print(vector3[5:19])\n"
      ],
      "metadata": {
        "colab": {
          "base_uri": "https://localhost:8080/"
        },
        "id": "661wbrx5UYD_",
        "outputId": "45767a41-3a0a-4a35-d0c6-e8c8a34a10cd"
      },
      "execution_count": null,
      "outputs": [
        {
          "output_type": "stream",
          "name": "stdout",
          "text": [
            "10\n",
            "0.0\n",
            "0.0\n",
            "10.0\n",
            "[0.5 0.6 0.7 0.8 0.9 1.  1.1 1.2 1.3 1.4 1.5 1.6 1.7 1.8]\n"
          ]
        }
      ]
    },
    {
      "cell_type": "code",
      "source": [
        "a = np.array([1,2,3,4,5])\n",
        "b = np.array([-2,3,0,2,1])\n",
        "print(a,b)\n",
        "print(5*a)\n",
        "print(-2*b)\n",
        "print(a+b)\n",
        "print(a*b) #multiplicacion elemento a elemento\n",
        "print(np.dot(a,b)) #producto punto\n"
      ],
      "metadata": {
        "colab": {
          "base_uri": "https://localhost:8080/"
        },
        "id": "8PBXHu2CUt5Z",
        "outputId": "1bd15476-ccf9-42c5-8f00-c19ae90403d9"
      },
      "execution_count": null,
      "outputs": [
        {
          "output_type": "stream",
          "name": "stdout",
          "text": [
            "[1 2 3 4 5] [-2  3  0  2  1]\n",
            "[ 5 10 15 20 25]\n",
            "[ 4 -6  0 -4 -2]\n",
            "[-1  5  3  6  6]\n",
            "[-2  6  0  8  5]\n",
            "17\n"
          ]
        }
      ]
    },
    {
      "cell_type": "code",
      "source": [
        "#Matrices\n",
        "matrizA = np.matrix([\n",
        "    [1,2,3],\n",
        "    [4,5,6],\n",
        "    [7,8,9]\n",
        "])\n",
        "print(matrizA)\n",
        "\n",
        "matrizB = np.matrix([\n",
        "    [10,-2,3],\n",
        "    [-1,9,2],\n",
        "    [1,0,-2]\n",
        "])\n",
        "\n",
        "print(matrizB)\n"
      ],
      "metadata": {
        "colab": {
          "base_uri": "https://localhost:8080/"
        },
        "id": "x5r67BsAUlTJ",
        "outputId": "ad3015ad-2223-49ba-f5da-db706d2826ac"
      },
      "execution_count": null,
      "outputs": [
        {
          "output_type": "stream",
          "name": "stdout",
          "text": [
            "[[1 2 3]\n",
            " [4 5 6]\n",
            " [7 8 9]]\n",
            "[[10 -2  3]\n",
            " [-1  9  2]\n",
            " [ 1  0 -2]]\n"
          ]
        }
      ]
    },
    {
      "cell_type": "markdown",
      "source": [
        "Numpy incluye una amplia variedad de operaciones que se pueden realizar sobre matrices. Es importante tener en cuenta que estas operaciones tienen múltiples aplicaciones en diversos campos como en la solución de ecuaciones, solución de ecuaciones diferenciales, problemas de regresión y extrapolación, etc.\n",
        "\n",
        "A continuación exploraremos algunas de las funciones más importantes:"
      ],
      "metadata": {
        "id": "pcZ9ngESV_U9"
      }
    },
    {
      "cell_type": "code",
      "source": [
        "#suma de matrices\n",
        "print(matrizA+matrizB)\n",
        "#producto de matrices\n",
        "print(np.matmul(matrizA,matrizB))\n",
        "print(np.matmul(matrizB,matrizA))\n",
        "#matriz identidad\n",
        "print(np.identity(5))\n"
      ],
      "metadata": {
        "colab": {
          "base_uri": "https://localhost:8080/"
        },
        "id": "u001w9tQYCUU",
        "outputId": "e6ab9214-1c35-4c46-d7e0-dff139a75ff3"
      },
      "execution_count": null,
      "outputs": [
        {
          "output_type": "stream",
          "name": "stdout",
          "text": [
            "[[11  0  6]\n",
            " [ 3 14  8]\n",
            " [ 8  8  7]]\n",
            "[[11 16  1]\n",
            " [41 37 10]\n",
            " [71 58 19]]\n",
            "[[ 23  34  45]\n",
            " [ 49  59  69]\n",
            " [-13 -14 -15]]\n",
            "[[1. 0. 0. 0. 0.]\n",
            " [0. 1. 0. 0. 0.]\n",
            " [0. 0. 1. 0. 0.]\n",
            " [0. 0. 0. 1. 0.]\n",
            " [0. 0. 0. 0. 1.]]\n"
          ]
        }
      ]
    },
    {
      "cell_type": "code",
      "source": [],
      "metadata": {
        "id": "QKZWz-FTWtRG"
      },
      "execution_count": null,
      "outputs": []
    },
    {
      "cell_type": "markdown",
      "source": [
        "Ejemplo:\n",
        "Resuelva matricialmente el siguiente sistema de ecuaciones.\n",
        "\n",
        "$2 x + y = 4$\n",
        "\n",
        "$-3x + 2y = 1$\n",
        "\n",
        "Recuerde que esta ecuación puede colocarse en la forma AX=B donde:\n",
        "\n",
        "$A = \\begin{pmatrix}\n",
        "2 & 1 \\\\\n",
        "-3 & 2\n",
        "\\end{pmatrix}$\n",
        "\n",
        "$B=\\begin{pmatrix}\n",
        "x \\\\\n",
        "y\n",
        "\\end{pmatrix}$\n",
        "\n",
        "$C=\\begin{pmatrix}\n",
        "4 \\\\\n",
        "1\n",
        "\\end{pmatrix}$\n",
        "\n",
        "Por lo que el sistema de ecuaciones queda como:\n",
        "\n",
        "$\\begin{pmatrix}\n",
        "2 & 1 \\\\\n",
        "-3 & 2\n",
        "\\end{pmatrix}\n",
        "\\begin{pmatrix}\n",
        "x \\\\\n",
        "y\n",
        "\\end{pmatrix}=\\begin{pmatrix}\n",
        "4 \\\\\n",
        "1\n",
        "\\end{pmatrix}$\n",
        "\n",
        "Es importante recordar que necesitamos calcular los valores de la matriz X, esta queda dada por:\n",
        "\n",
        "$X = A^{-1} B$\n",
        "\n",
        "Esto quiere decir que necesitamos calcular la inversa de la matriz A (denotado como $A^{-1}$) y multiplicarla por B."
      ],
      "metadata": {
        "id": "RM1EvIrSbU09"
      }
    },
    {
      "cell_type": "code",
      "source": [],
      "metadata": {
        "id": "B3aDq3CvbQ92"
      },
      "execution_count": null,
      "outputs": []
    },
    {
      "cell_type": "markdown",
      "source": [
        "Una vez calculado esto, usted está en capacidad de hay una función que resulva sistemas de ecuaciones lineales si se le da como valores de entrara la matriz A y B."
      ],
      "metadata": {
        "id": "o45sfZ8Hea5v"
      }
    },
    {
      "cell_type": "code",
      "source": [],
      "metadata": {
        "id": "R4zQwkHdeZqE"
      },
      "execution_count": null,
      "outputs": []
    }
  ]
}