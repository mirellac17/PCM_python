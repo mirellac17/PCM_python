{
  "nbformat": 4,
  "nbformat_minor": 0,
  "metadata": {
    "colab": {
      "provenance": [],
      "include_colab_link": true
    },
    "kernelspec": {
      "name": "python3",
      "display_name": "Python 3"
    },
    "language_info": {
      "name": "python"
    }
  },
  "cells": [
    {
      "cell_type": "markdown",
      "metadata": {
        "id": "view-in-github",
        "colab_type": "text"
      },
      "source": [
        "<a href=\"https://colab.research.google.com/github/mirellac17/PCM_python/blob/main/Copia_de_vacunas_EDA_PCM.ipynb\" target=\"_parent\"><img src=\"https://colab.research.google.com/assets/colab-badge.svg\" alt=\"Open In Colab\"/></a>"
      ]
    },
    {
      "cell_type": "markdown",
      "metadata": {
        "id": "7F-bFb9D8j9g"
      },
      "source": [
        "#Vacunación contra el covid en Perú\n",
        "El siguiente notebook realiza una exploración a los datos de vacunación contra el covid en Perú. Los datos fueron extraídos de https://www.datosabiertos.gob.pe/dataset/vacunaci%C3%B3n-contra-covid-19-ministerio-de-salud-minsa\n",
        "\n",
        "**OJO:** Requiere el archivo vacunas_covid.csv\n"
      ]
    },
    {
      "cell_type": "code",
      "metadata": {
        "id": "ykLbw46q8c4z"
      },
      "source": [],
      "execution_count": null,
      "outputs": []
    },
    {
      "cell_type": "markdown",
      "metadata": {
        "id": "jMYZVCrYdlt3"
      },
      "source": [
        "Primero exploremos los datos que acaban de ser importados."
      ]
    },
    {
      "cell_type": "code",
      "metadata": {
        "id": "zxSTKss39JoM"
      },
      "source": [],
      "execution_count": null,
      "outputs": []
    },
    {
      "cell_type": "code",
      "metadata": {
        "id": "opTZ3RcJ-wPz"
      },
      "source": [],
      "execution_count": null,
      "outputs": []
    },
    {
      "cell_type": "markdown",
      "metadata": {
        "id": "2WtAFHKd8dxF"
      },
      "source": [
        "Observemos el nombre de las columnas de la data\n"
      ]
    },
    {
      "cell_type": "code",
      "metadata": {
        "id": "OrfFRJqd8xhC"
      },
      "source": [],
      "execution_count": null,
      "outputs": []
    },
    {
      "cell_type": "code",
      "metadata": {
        "id": "hb3Dc-NA9d0D"
      },
      "source": [],
      "execution_count": null,
      "outputs": []
    },
    {
      "cell_type": "markdown",
      "metadata": {
        "id": "gEcz9xRl9hCt"
      },
      "source": [
        "FECHA_CORTE posee el mismo valor para toda la tabla de datos. UUID es un código de identificación para cada vacuna. La denominación del resto de columnas queda correctamente descrito."
      ]
    },
    {
      "cell_type": "code",
      "metadata": {
        "id": "DWEQKQk79PPm"
      },
      "source": [],
      "execution_count": null,
      "outputs": []
    },
    {
      "cell_type": "markdown",
      "metadata": {
        "id": "0kcuReft-ijV"
      },
      "source": [
        "Del resultado anterior. ¿Tiene sentido TODA la información proporcionada?"
      ]
    },
    {
      "cell_type": "code",
      "metadata": {
        "id": "NCfvFICG_Loq"
      },
      "source": [
        "#Exploremos la columna FECHA_CORTE\n"
      ],
      "execution_count": null,
      "outputs": []
    },
    {
      "cell_type": "markdown",
      "metadata": {
        "id": "GWo3yA5d_30Z"
      },
      "source": [
        "Esta columna representa una fecha, pero tiene formato de entero. Pandas admite un formate de fecha y hora. https://pandas.pydata.org/pandas-docs/stable/reference/api/pandas.to_datetime.html"
      ]
    },
    {
      "cell_type": "code",
      "metadata": {
        "id": "Le-_34ATGfx9"
      },
      "source": [],
      "execution_count": null,
      "outputs": []
    },
    {
      "cell_type": "code",
      "metadata": {
        "id": "PVtKUKt_HCtk"
      },
      "source": [],
      "execution_count": null,
      "outputs": []
    },
    {
      "cell_type": "code",
      "metadata": {
        "id": "HR5aJnc4IVYA"
      },
      "source": [],
      "execution_count": null,
      "outputs": []
    },
    {
      "cell_type": "markdown",
      "metadata": {
        "id": "rssgTVQcBRkY"
      },
      "source": [
        "Nótese que faltan datos en la columna de EDAD. Veamos cuantos son los datos faltantes y a que filas corresponden"
      ]
    },
    {
      "cell_type": "code",
      "metadata": {
        "id": "nQkGhgLmJtaU"
      },
      "source": [],
      "execution_count": null,
      "outputs": []
    },
    {
      "cell_type": "code",
      "metadata": {
        "id": "9qUEk-XIB0Yx"
      },
      "source": [],
      "execution_count": null,
      "outputs": []
    },
    {
      "cell_type": "markdown",
      "metadata": {
        "id": "F_2fIahmCw-0"
      },
      "source": [
        "Ahora, estudiemos cada columna."
      ]
    },
    {
      "cell_type": "code",
      "metadata": {
        "id": "WZAYb55wLlrF"
      },
      "source": [],
      "execution_count": null,
      "outputs": []
    },
    {
      "cell_type": "code",
      "metadata": {
        "id": "lzmm2izGDftc"
      },
      "source": [],
      "execution_count": null,
      "outputs": []
    },
    {
      "cell_type": "code",
      "metadata": {
        "id": "CxqBMPvWGCKX"
      },
      "source": [],
      "execution_count": null,
      "outputs": []
    },
    {
      "cell_type": "code",
      "metadata": {
        "id": "M5aUPXXdLzSC"
      },
      "source": [],
      "execution_count": null,
      "outputs": []
    },
    {
      "cell_type": "markdown",
      "metadata": {
        "id": "suoKN8ChMLAU"
      },
      "source": [
        "¿es el gráfico anterior una buena forma de presentar la información?"
      ]
    },
    {
      "cell_type": "code",
      "metadata": {
        "id": "R2gjw_5rHBuQ"
      },
      "source": [],
      "execution_count": null,
      "outputs": []
    },
    {
      "cell_type": "code",
      "metadata": {
        "id": "OhYTnO4QDoXG"
      },
      "source": [],
      "execution_count": null,
      "outputs": []
    },
    {
      "cell_type": "code",
      "metadata": {
        "id": "6YeXIX8xL62T"
      },
      "source": [],
      "execution_count": null,
      "outputs": []
    },
    {
      "cell_type": "code",
      "metadata": {
        "id": "CkArE9GgMjRp"
      },
      "source": [],
      "execution_count": null,
      "outputs": []
    },
    {
      "cell_type": "code",
      "metadata": {
        "id": "8HMe6ZauK08E"
      },
      "source": [],
      "execution_count": null,
      "outputs": []
    },
    {
      "cell_type": "code",
      "metadata": {
        "id": "ZNMQBzL4Mk-l"
      },
      "source": [],
      "execution_count": null,
      "outputs": []
    },
    {
      "cell_type": "code",
      "metadata": {
        "id": "bCR_wCMqK7kz"
      },
      "source": [
        "#Veamos cuantas vacunas aplicadas hay por fabricante y dosis\n"
      ],
      "execution_count": null,
      "outputs": []
    },
    {
      "cell_type": "code",
      "metadata": {
        "id": "js7eSCdKLH8T"
      },
      "source": [],
      "execution_count": null,
      "outputs": []
    },
    {
      "cell_type": "code",
      "metadata": {
        "id": "xIZt-bQiNJNf"
      },
      "source": [],
      "execution_count": null,
      "outputs": []
    },
    {
      "cell_type": "code",
      "metadata": {
        "id": "owBkocxlMCqy"
      },
      "source": [],
      "execution_count": null,
      "outputs": []
    },
    {
      "cell_type": "markdown",
      "metadata": {
        "id": "-13GPfquR39D"
      },
      "source": [
        "Sigamos realizando mas agrupaciones para explorar la data correspondiente"
      ]
    },
    {
      "cell_type": "code",
      "metadata": {
        "id": "IsB6ryL1PQLz"
      },
      "source": [],
      "execution_count": null,
      "outputs": []
    },
    {
      "cell_type": "markdown",
      "metadata": {
        "id": "SRh3WPkRSPuS"
      },
      "source": [
        "¿todas las regiones tienen la misma proporción de vacunados entre hombres y mujeres?"
      ]
    }
  ]
}