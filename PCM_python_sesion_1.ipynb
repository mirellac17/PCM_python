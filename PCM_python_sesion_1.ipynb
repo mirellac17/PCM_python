{
  "nbformat": 4,
  "nbformat_minor": 0,
  "metadata": {
    "colab": {
      "provenance": [],
      "toc_visible": true,
      "include_colab_link": true
    },
    "kernelspec": {
      "name": "python3",
      "display_name": "Python 3"
    },
    "language_info": {
      "name": "python"
    }
  },
  "cells": [
    {
      "cell_type": "markdown",
      "metadata": {
        "id": "view-in-github",
        "colab_type": "text"
      },
      "source": [
        "<a href=\"https://colab.research.google.com/github/mirellac17/PCM_python/blob/main/PCM_python_sesion_1.ipynb\" target=\"_parent\"><img src=\"https://colab.research.google.com/assets/colab-badge.svg\" alt=\"Open In Colab\"/></a>"
      ]
    },
    {
      "cell_type": "markdown",
      "source": [
        "# Presentación del curso de Python\n",
        "\n",
        "¡Bienvenidos a Python! Este formato de presentar la información recibe el nombre de **notebook**, este combina el texto que usted lee y el código que se ejecutará.\n",
        "\n",
        "En esta primera parte exploraremos las variables numéricas, cadenas de texto y booleanos. También mostraremos estructuras de datos como listas, tuplas y diccionarios. Veremos que operaciones podemos realizar y algunos ejemplos de uso.\n",
        "\n",
        "Se propone algunos ejercicios para que el estudiante pueda repasar los conceptos."
      ],
      "metadata": {
        "id": "jVNruU0vNYNc"
      }
    },
    {
      "cell_type": "markdown",
      "source": [
        "El primer comando que se presenta es el comando `print()`, este permite mostrar en la pantalla un mensaje."
      ],
      "metadata": {
        "id": "PEEEKtkRNnNg"
      }
    },
    {
      "cell_type": "code",
      "execution_count": null,
      "metadata": {
        "colab": {
          "base_uri": "https://localhost:8080/"
        },
        "id": "7QkASrXKNUtY",
        "outputId": "0ed0ac31-122f-4dd8-bae4-fbbea532b1e7"
      },
      "outputs": [
        {
          "output_type": "stream",
          "name": "stdout",
          "text": [
            "Bienvenidos a Python\n"
          ]
        }
      ],
      "source": [
        "print('Bienvenidos a Python')"
      ]
    },
    {
      "cell_type": "markdown",
      "source": [
        "**Ejercicio:** Muestre en pantalla su nombre"
      ],
      "metadata": {
        "id": "RpbIwNytd4DL"
      }
    },
    {
      "cell_type": "code",
      "source": [],
      "metadata": {
        "id": "Lethl4D6d-GL"
      },
      "execution_count": null,
      "outputs": []
    },
    {
      "cell_type": "markdown",
      "source": [
        "A veces se hace necesario colocar anotaciones sobre lo que hace el código u otra información necesaria para que otro programador lea nuestro código, para esto se tienen los **comentarios**. Los comentarios no se ejecutan, no afectan de ninguna manera el resultado del código."
      ],
      "metadata": {
        "id": "NM_J3FXjOcSR"
      }
    },
    {
      "cell_type": "code",
      "source": [
        "# Este es un comentario\n",
        "# El siguiente comando mostrará un mensaje\n",
        "print('Este es un mensaje')"
      ],
      "metadata": {
        "colab": {
          "base_uri": "https://localhost:8080/"
        },
        "id": "ymN-kOUrObKR",
        "outputId": "d3f2d685-5dfa-4e34-dda1-9ad7b7ab46a1"
      },
      "execution_count": null,
      "outputs": [
        {
          "output_type": "stream",
          "name": "stdout",
          "text": [
            "Este es un mensaje\n"
          ]
        }
      ]
    },
    {
      "cell_type": "code",
      "source": [
        "'''\n",
        "Tambien se tiene mensaje de múltiples líneas\n",
        "todo lo que está entre las 3 comillas superiores e inferiores\n",
        "no se ejecuta\n",
        "'''\n",
        "print('Esto si se ejecuta')"
      ],
      "metadata": {
        "colab": {
          "base_uri": "https://localhost:8080/"
        },
        "id": "RHGga7CBfTGn",
        "outputId": "41b42669-e6fa-4015-c9cd-964e0683446f"
      },
      "execution_count": null,
      "outputs": [
        {
          "output_type": "stream",
          "name": "stdout",
          "text": [
            "Esto si se ejecuta\n"
          ]
        }
      ]
    },
    {
      "cell_type": "markdown",
      "source": [
        "Hasta el momento hemos visto como mostrar un mensaje en pantalla. Veamos mas funcionalidades, esta vez como realizar algunas operaciones básicas."
      ],
      "metadata": {
        "id": "hOIdCUSMfhFz"
      }
    },
    {
      "cell_type": "markdown",
      "source": [
        "# Variables y operaciones\n",
        "\n",
        "Cualquier computadora nos ofrece la posibilidad de realizar operaciones matemáticas. Veamos algunos ejemplos y complementemos estas tareas con el comando `print()` que vimos previamente."
      ],
      "metadata": {
        "id": "QG9shi9WO61I"
      }
    },
    {
      "cell_type": "markdown",
      "source": [
        "Podemos usar Python como una calculadora convencional."
      ],
      "metadata": {
        "id": "11TjrJ1LhigF"
      }
    },
    {
      "cell_type": "code",
      "source": [
        "#Python como calculadora\n",
        "3 + 4 * 44"
      ],
      "metadata": {
        "colab": {
          "base_uri": "https://localhost:8080/"
        },
        "id": "t5nj3Q6OPSH6",
        "outputId": "fe8ab05f-714c-4951-b1e0-6c5cd1118314"
      },
      "execution_count": null,
      "outputs": [
        {
          "output_type": "execute_result",
          "data": {
            "text/plain": [
              "179"
            ]
          },
          "metadata": {},
          "execution_count": 4
        }
      ]
    },
    {
      "cell_type": "code",
      "source": [
        "# Ejercicio: EL libro 'La ciudad y los perros' se publicó\n",
        "# en el año 1963 . Calcule cuantos años han pasado desde su publicación al día de hoy"
      ],
      "metadata": {
        "id": "L9YkyJyLhoyM"
      },
      "execution_count": null,
      "outputs": []
    },
    {
      "cell_type": "markdown",
      "source": [
        "Los datos de entrada o de salida pueden ser almacenados en variables. Estas variables pueden ser de diferente naturaleza, por ejemplo:\n",
        "\n",
        "\n",
        "*   Variables numéricas: números enteros o flotantes\n",
        "*   Cadenas de texto: secuencia de caracteres.\n",
        "*   Variables booleanas: Toman valores de verdadero o falso.\n",
        "\n",
        "De este modo, la edad de una persona corresponde a una variable numérica , el apellido de un usuario corresponde a una cadena de texto y la información si un ciudadano es o no donante de órganos corresponde a una variable booleana. Veamos a continuación como trabajar con variables y realizar operaciones.\n"
      ],
      "metadata": {
        "id": "M6jwHmTeiKe1"
      }
    },
    {
      "cell_type": "markdown",
      "source": [
        "##Variables numéricas\n",
        "Representan cantidades numéricas, la sea números enteros, decimales, complejos, en sistema hexagesimal, etc. Veamos las variables numéricas mas frecuentes y como realizar operaciones."
      ],
      "metadata": {
        "id": "vF0xV1J4agru"
      }
    },
    {
      "cell_type": "code",
      "source": [
        "# Variables numéricas\n"
      ],
      "metadata": {
        "id": "SLKXeQMnPWwM"
      },
      "execution_count": null,
      "outputs": []
    },
    {
      "cell_type": "markdown",
      "source": [
        "Debe escribir explicitamente el comando `print()` y el mensaje que debe mostrar para que en pantalla figure el mensaje."
      ],
      "metadata": {
        "id": "B4OsxmGgPe7p"
      }
    },
    {
      "cell_type": "code",
      "source": [
        "# Diversas operaciones que se pueden realizar\n"
      ],
      "metadata": {
        "id": "TX6VTISsTgjB"
      },
      "execution_count": null,
      "outputs": []
    },
    {
      "cell_type": "code",
      "source": [
        "'''\n",
        "Escriba un código para calcular el área de un rectángulo.\n",
        "'''"
      ],
      "metadata": {
        "id": "kenPK3NmqyeU",
        "colab": {
          "base_uri": "https://localhost:8080/",
          "height": 35
        },
        "outputId": "f8e70887-08ec-487d-8e77-17364c808421"
      },
      "execution_count": null,
      "outputs": [
        {
          "output_type": "execute_result",
          "data": {
            "text/plain": [
              "'\\nEscriba un código para calcular el área de un rectángulo.\\n'"
            ],
            "application/vnd.google.colaboratory.intrinsic+json": {
              "type": "string"
            }
          },
          "metadata": {},
          "execution_count": 8
        }
      ]
    },
    {
      "cell_type": "code",
      "source": [
        "# Ejemplo: Hacer el descuento a un producto\n"
      ],
      "metadata": {
        "id": "HbQA2XppQrRn"
      },
      "execution_count": null,
      "outputs": []
    },
    {
      "cell_type": "code",
      "source": [
        "# Ejemplo: promedio de tres numeros\n"
      ],
      "metadata": {
        "id": "CEyhR_whWAq3"
      },
      "execution_count": null,
      "outputs": []
    },
    {
      "cell_type": "code",
      "source": [
        "#Ejemplo : 1 pulgada equivale a 2.54 centimetros. Convierta 18 pulgada a cm\n"
      ],
      "metadata": {
        "id": "zs1UAKmvWx1G"
      },
      "execution_count": null,
      "outputs": []
    },
    {
      "cell_type": "markdown",
      "source": [
        "## Cadenas de texto\n",
        "Tmabién llamada cadena de caracteres o *string*, esta es una secuencia de símbolos que representa un texto. Veamos algunos ejemplos de uso y que operaciones se pueden realizar con estas."
      ],
      "metadata": {
        "id": "-G84rsp_YR8h"
      }
    },
    {
      "cell_type": "code",
      "source": [
        "#Cadena de texto\n"
      ],
      "metadata": {
        "id": "3aCRC6iZYiAH"
      },
      "execution_count": null,
      "outputs": []
    },
    {
      "cell_type": "code",
      "source": [
        "# A continuación, algunas operaciones que se pueden aplicar a las cadenas de texto\n"
      ],
      "metadata": {
        "id": "SSQMe_9VbcKv"
      },
      "execution_count": null,
      "outputs": []
    },
    {
      "cell_type": "code",
      "source": [
        "#Unir dos cadenas de texto\n"
      ],
      "metadata": {
        "id": "LNj92PltEN7B"
      },
      "execution_count": null,
      "outputs": []
    },
    {
      "cell_type": "markdown",
      "source": [
        "**Pregunta**\n",
        "¿Son las variables var1 y var 2 iguales?\n",
        "```\n",
        "var1 = 10\n",
        "var2 = '10'\n",
        "```\n",
        "La primera representa al número 10, mientras que la segunda representa a la cadena de texto cuyo contenido es el caracter 1 y 0. Son diferentes. Veamos como difieren y como identificarlas.\n",
        "\n",
        "\n"
      ],
      "metadata": {
        "id": "djZNbV27FDwt"
      }
    },
    {
      "cell_type": "code",
      "source": [],
      "metadata": {
        "id": "wAwrs61hGgPq"
      },
      "execution_count": null,
      "outputs": []
    },
    {
      "cell_type": "markdown",
      "source": [
        "Ejemplo:\n",
        "\n",
        "En el siguiente ejemplo solicitaremos que se introduzca el nombre de un estudiante y tres notas de este, luego se mostrará en pantalla el nombre ingresado y el promedio de sus tres notas. Se presenta el uso del comando `input()`"
      ],
      "metadata": {
        "id": "OlmdooOscGUr"
      }
    },
    {
      "cell_type": "code",
      "source": [
        "'''\n",
        "Se pide ingresar información mediante el teclado y\n",
        "que se imprima en pantalla\n",
        "'''\n"
      ],
      "metadata": {
        "colab": {
          "base_uri": "https://localhost:8080/",
          "height": 35
        },
        "id": "GFqi-TU8cOZJ",
        "outputId": "4ffb6d13-6e23-493a-e502-ee3927fce08c"
      },
      "execution_count": null,
      "outputs": [
        {
          "output_type": "execute_result",
          "data": {
            "text/plain": [
              "'\\nSe pide ingresar información mediante el teclado y\\nque se imprima en pantalla\\n'"
            ],
            "application/vnd.google.colaboratory.intrinsic+json": {
              "type": "string"
            }
          },
          "metadata": {},
          "execution_count": 15
        }
      ]
    },
    {
      "cell_type": "markdown",
      "source": [
        "El comando ```input()``` recibe la información mediante teclado y almacena la entrada en una cadena de texto. Se guarda como cadena de texto y puede convertirse en un número entero (int) o flotante (float), o símplemente dejarlo así como cadena de texto.\n",
        "\n"
      ],
      "metadata": {
        "id": "QhZeT6CzIxGC"
      }
    },
    {
      "cell_type": "markdown",
      "source": [
        "## Variables booleanas\n",
        "Corresponde a variables de tipo lógico. Las variables booleanas toman dos valores posible: Verdadero (True) o Falso (False), estos valores se utilizan para realizar operaciones lógicas (AND, OR, NOT, etc.)"
      ],
      "metadata": {
        "id": "0-t5sMYzLZB_"
      }
    },
    {
      "cell_type": "code",
      "source": [
        "## Operaciones lógicas con variables booleanas\n"
      ],
      "metadata": {
        "id": "kvP-fbpEv-mr"
      },
      "execution_count": null,
      "outputs": []
    },
    {
      "cell_type": "markdown",
      "source": [
        "También son útiles para verificar la veracidad o falsedad de una proposición al comparar variables"
      ],
      "metadata": {
        "id": "AN7Rp4hMwhP8"
      }
    },
    {
      "cell_type": "code",
      "source": [],
      "metadata": {
        "id": "4F-P0aeTwgtM"
      },
      "execution_count": null,
      "outputs": []
    },
    {
      "cell_type": "markdown",
      "source": [
        "Ejemplo: Elaboremos todos los posibles resultados de los operadores AND y OR"
      ],
      "metadata": {
        "id": "mIBmtrLhXiQ1"
      }
    },
    {
      "cell_type": "code",
      "source": [],
      "metadata": {
        "id": "bKEYuITeY8XX"
      },
      "execution_count": null,
      "outputs": []
    },
    {
      "cell_type": "code",
      "source": [],
      "metadata": {
        "id": "RmPVIKqQZjt8"
      },
      "execution_count": null,
      "outputs": []
    },
    {
      "cell_type": "markdown",
      "source": [
        "# Estructuras de datos\n",
        "Corresponde a una disposición de almacenamiento de datos, de modo que la gestión de la información sea eficiente. Diferentes estructuras de datos son utilizadas para diferentes propósitos. En esta sección se exploran las listas, tuplas, diccionarios y conjuntos."
      ],
      "metadata": {
        "id": "jOAtdWDvbIJN"
      }
    },
    {
      "cell_type": "markdown",
      "source": [
        "## Listas\n",
        "Esta es una estructura de datos que almacena varios elementos ordenados en una sola variable. Una lista puede almacenar elementos de distintos tipos."
      ],
      "metadata": {
        "id": "kdLcn7BIdMDy"
      }
    },
    {
      "cell_type": "code",
      "source": [
        "#Creacion de listas\n"
      ],
      "metadata": {
        "id": "l3JOr3S6D1_-"
      },
      "execution_count": null,
      "outputs": []
    },
    {
      "cell_type": "markdown",
      "source": [
        "Los elementos de una lista están ordenados, están numerados. La numeración del primer elemento inicia en 0 (no en 1, como en otros lenguajes de programación)."
      ],
      "metadata": {
        "id": "unmyeQwGLsAp"
      }
    },
    {
      "cell_type": "code",
      "source": [
        "#Acceder a elementos\n"
      ],
      "metadata": {
        "id": "7MNTBO-wEMUl"
      },
      "execution_count": null,
      "outputs": []
    },
    {
      "cell_type": "code",
      "source": [],
      "metadata": {
        "id": "uiWHpSpwEZMZ"
      },
      "execution_count": null,
      "outputs": []
    },
    {
      "cell_type": "code",
      "source": [
        "###\n",
        "# Acceder a elementos\n"
      ],
      "metadata": {
        "id": "Nke3_i_NGQBT"
      },
      "execution_count": null,
      "outputs": []
    },
    {
      "cell_type": "code",
      "source": [
        "#Ver numero de elementos\n"
      ],
      "metadata": {
        "id": "BxsieAicE0zi"
      },
      "execution_count": null,
      "outputs": []
    },
    {
      "cell_type": "markdown",
      "source": [
        "Una característica de las listas es que los elementos de esta se pueden modificar."
      ],
      "metadata": {
        "id": "_eLXWUrrOTKE"
      }
    },
    {
      "cell_type": "code",
      "source": [
        "#Modificar elementos\n"
      ],
      "metadata": {
        "id": "p7x9TQKjF4fG"
      },
      "execution_count": null,
      "outputs": []
    },
    {
      "cell_type": "code",
      "source": [
        "#Vea como se puede modificar los elementos de esta lista\n"
      ],
      "metadata": {
        "id": "pBfb23MYNjDs"
      },
      "execution_count": null,
      "outputs": []
    },
    {
      "cell_type": "markdown",
      "source": [
        "Como las listas se pueden modificar hay operaciones permitidas como añadir, eliminar o modificar elementos."
      ],
      "metadata": {
        "id": "dH7TjVjlOroe"
      }
    },
    {
      "cell_type": "code",
      "source": [
        "###\n",
        "# Operaciones con lista\n"
      ],
      "metadata": {
        "id": "5pmwtNIlO8En"
      },
      "execution_count": null,
      "outputs": []
    },
    {
      "cell_type": "code",
      "source": [
        "#Revertir la lista\n"
      ],
      "metadata": {
        "id": "yNbtPk0PQXAP"
      },
      "execution_count": null,
      "outputs": []
    },
    {
      "cell_type": "code",
      "source": [
        "#Eliminar elementos\n"
      ],
      "metadata": {
        "id": "FFC2SOHTSJ9-"
      },
      "execution_count": null,
      "outputs": []
    },
    {
      "cell_type": "code",
      "source": [
        "# Operaciones\n"
      ],
      "metadata": {
        "id": "ykEsgJNsYD2A"
      },
      "execution_count": null,
      "outputs": []
    },
    {
      "cell_type": "markdown",
      "source": [
        "## Tuplas\n",
        "Una tupla es una estructura de datos similar a la lista, con la principal diferencia que es **inmutable**. Esto quiere decir que no se puede modificar de ninguna manera. Dada esta característica, las tuplas poseen métodos similares a las listas.\n"
      ],
      "metadata": {
        "id": "IQMm__elWMKY"
      }
    },
    {
      "cell_type": "code",
      "source": [],
      "metadata": {
        "id": "74Lkadz8WLeo"
      },
      "execution_count": null,
      "outputs": []
    },
    {
      "cell_type": "code",
      "source": [
        "#Acceder a elementos\n",
        "#Del mismo modo se inicia el conteo en 0\n"
      ],
      "metadata": {
        "id": "6Z8xsg2WZ5Xq"
      },
      "execution_count": null,
      "outputs": []
    },
    {
      "cell_type": "code",
      "source": [
        "#Del mismo modo se accede a porciones de las tuplas\n"
      ],
      "metadata": {
        "id": "OcuW_8TVaAs4"
      },
      "execution_count": null,
      "outputs": []
    },
    {
      "cell_type": "code",
      "source": [
        "#No puedes cambiar los elementos\n"
      ],
      "metadata": {
        "id": "BlsqFbamag59"
      },
      "execution_count": null,
      "outputs": []
    },
    {
      "cell_type": "code",
      "source": [
        "#No se puede añadir elementos, revise el error\n"
      ],
      "metadata": {
        "id": "VVLBl5fGa6G3"
      },
      "execution_count": null,
      "outputs": []
    },
    {
      "cell_type": "markdown",
      "source": [
        "**Comente:** En que situaciones y que tipo de datos almacenaria en una lista y en una tupla. Justifique su respuesta."
      ],
      "metadata": {
        "id": "XYb6lxBAbRiS"
      }
    },
    {
      "cell_type": "markdown",
      "source": [
        "## Diccionarios\n",
        "Un diccionario es una estructura de datos que asigna a cada elemento almacenado (value) un único índice (key). Esto es, se almacenan elementos pero no están numerados, si no que le corresponde a cada elemento una llave. Así, un diccionario es un par **key : value** ."
      ],
      "metadata": {
        "id": "vC5W1mghbggW"
      }
    },
    {
      "cell_type": "code",
      "source": [
        "#Declarando un diccionario\n"
      ],
      "metadata": {
        "id": "zx_fhGy9bK3H"
      },
      "execution_count": null,
      "outputs": []
    },
    {
      "cell_type": "markdown",
      "source": [
        "Como se mencionó, un diccionario no está numerado. Al elemento \"ruben\" se le asigna la llave \"nombre\", al elemento 30 se le asigna la llave \"edad\" y así sucesivamente."
      ],
      "metadata": {
        "id": "s4UjrcvyZzGq"
      }
    },
    {
      "cell_type": "code",
      "source": [],
      "metadata": {
        "id": "wBNMollBglXX"
      },
      "execution_count": null,
      "outputs": []
    },
    {
      "cell_type": "code",
      "source": [
        "#Un diccionario no se admite duplicados\n",
        "#A diferencia que una lista si lo hace.\n"
      ],
      "metadata": {
        "id": "ZDNuN0BYhC62"
      },
      "execution_count": null,
      "outputs": []
    },
    {
      "cell_type": "code",
      "source": [
        "###\n",
        "# Alternativamente así tambien se puede declarar un diccionario\n"
      ],
      "metadata": {
        "id": "zSGkOOSTh7e2"
      },
      "execution_count": null,
      "outputs": []
    },
    {
      "cell_type": "code",
      "source": [
        "###\n",
        "# También se puede declarar un diccionario vacio\n",
        "# Y añañdir progresivamente.\n"
      ],
      "metadata": {
        "id": "VZTggiBalEyE"
      },
      "execution_count": null,
      "outputs": []
    },
    {
      "cell_type": "markdown",
      "source": [
        "Se pueden modificar los elementos de los diccionarios. Por lo que admiten operaciones como eliminar elementos, agregar, eliminar, etc."
      ],
      "metadata": {
        "id": "y5RKnZynahpQ"
      }
    },
    {
      "cell_type": "code",
      "source": [
        "# Limpiar diccionario\n"
      ],
      "metadata": {
        "id": "b4rprRMhmoEQ"
      },
      "execution_count": null,
      "outputs": []
    },
    {
      "cell_type": "markdown",
      "source": [
        "Los elementos almacenadas pueden ser números, textos o incluso listas."
      ],
      "metadata": {
        "id": "g7CFx8_abCiT"
      }
    },
    {
      "cell_type": "code",
      "source": [
        "# get keys\n"
      ],
      "metadata": {
        "id": "b6WN6u2Hnq34"
      },
      "execution_count": null,
      "outputs": []
    },
    {
      "cell_type": "code",
      "source": [
        "# Acceder a las llaves (keys) de un diccionario\n"
      ],
      "metadata": {
        "id": "RABUj0rxoZqw"
      },
      "execution_count": null,
      "outputs": []
    },
    {
      "cell_type": "code",
      "source": [
        "#eliminar elementos\n"
      ],
      "metadata": {
        "id": "_NarG_vgpp66"
      },
      "execution_count": null,
      "outputs": []
    },
    {
      "cell_type": "code",
      "source": [
        "#actualizar diccionario\n"
      ],
      "metadata": {
        "id": "jAlxyVbyqo5q"
      },
      "execution_count": null,
      "outputs": []
    },
    {
      "cell_type": "code",
      "source": [
        "#actualizar un diccionario\n"
      ],
      "metadata": {
        "id": "YBtDKBkrrf1d"
      },
      "execution_count": null,
      "outputs": []
    },
    {
      "cell_type": "markdown",
      "source": [
        "## Conjuntos\n",
        "\n",
        "Un conjunto es una estructura de datos diferente de las previamente mostradas. Algunas características son:\n",
        "\n",
        "\n",
        "*   Los elementos no están ordenados, es decir que no se les asigna un índice.\n",
        "*   No admite duplicados.\n",
        "*   No admite cambios de los elementos, pero si es posible aumentar o eliminar elementos.\n",
        "\n",
        "\n"
      ],
      "metadata": {
        "id": "bb_fD50Ubu7k"
      }
    },
    {
      "cell_type": "code",
      "source": [
        "### Definiendo conjuntos\n"
      ],
      "metadata": {
        "id": "qyXakhK5iSCR"
      },
      "execution_count": null,
      "outputs": []
    },
    {
      "cell_type": "code",
      "source": [
        "#Los conjuntos no admiten duplicados\n"
      ],
      "metadata": {
        "id": "bz1EHrjDinBu"
      },
      "execution_count": null,
      "outputs": []
    },
    {
      "cell_type": "markdown",
      "source": [
        "Los conjuntos en Python admiten las mismas operaciones que se trabaja en álgebra de conjuntos que se trabaja en matemáticas."
      ],
      "metadata": {
        "id": "Qm2iHyynkEKJ"
      }
    },
    {
      "cell_type": "code",
      "source": [
        "### Operaciones de conjuntos\n"
      ],
      "metadata": {
        "id": "tyLNbHqwkNKH"
      },
      "execution_count": null,
      "outputs": []
    },
    {
      "cell_type": "code",
      "source": [
        "#Pertenencia\n"
      ],
      "metadata": {
        "id": "mFhjEizdpP42"
      },
      "execution_count": null,
      "outputs": []
    },
    {
      "cell_type": "markdown",
      "source": [
        "**Comente:** Mencione situaciones en que los conjuntos puedan ser de utilidad."
      ],
      "metadata": {
        "id": "eP3pjDUxqyIg"
      }
    },
    {
      "cell_type": "markdown",
      "source": [
        "# Conclusiones\n",
        "Se han presentado el formato de \"Notebook\" para ejecutar código en Python usando Google Colab.\n",
        "\n",
        "Se presentó las variables numéricas, cadenas de texto y booleanas ademaás de las operaciones que se pueden realizar con estas, mostrando algunos ejemplos prácticos.\n",
        "\n",
        "Se presentó las estructuras de datos como son las listas, tuplas, diccionarios y conjuntos. Mostrando sus características y usos.\n",
        "\n",
        "Los conceptos presentados en este notebook serán utilizados en próximos tópicos."
      ],
      "metadata": {
        "id": "BDCBXbBZbzDM"
      }
    }
  ]
}